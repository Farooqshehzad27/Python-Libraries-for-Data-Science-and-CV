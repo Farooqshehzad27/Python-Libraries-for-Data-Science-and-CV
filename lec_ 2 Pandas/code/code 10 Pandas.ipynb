{
  "nbformat": 4,
  "nbformat_minor": 0,
  "metadata": {
    "colab": {
      "provenance": []
    },
    "kernelspec": {
      "name": "python3",
      "display_name": "Python 3"
    },
    "language_info": {
      "name": "python"
    }
  },
  "cells": [
    {
      "cell_type": "code",
      "execution_count": 116,
      "metadata": {
        "colab": {
          "base_uri": "https://localhost:8080/"
        },
        "id": "68L1FTt37IdD",
        "outputId": "6e153068-36c6-4689-bbcb-d8dc6c41281a"
      },
      "outputs": [
        {
          "output_type": "stream",
          "name": "stdout",
          "text": [
            "Drive already mounted at /content/drive; to attempt to forcibly remount, call drive.mount(\"/content/drive\", force_remount=True).\n"
          ]
        }
      ],
      "source": [
        "# 🔹 Import Pandas\n",
        "import pandas as pd\n",
        "import numpy as np\n",
        "from google.colab import drive\n",
        "\n",
        "drive.mount(\"/content/drive\")"
      ]
    },
    {
      "cell_type": "code",
      "source": [
        "# ▶️ Creating a Series\n",
        "data = [10, 20, 30]\n",
        "labels = ['b', 'c', 'a']\n",
        "series = pd.Series(data, index=labels)"
      ],
      "metadata": {
        "id": "SUlA0l6a8QHC"
      },
      "execution_count": 117,
      "outputs": []
    },
    {
      "cell_type": "code",
      "source": [
        "print(\"Series:\\n\", series)"
      ],
      "metadata": {
        "colab": {
          "base_uri": "https://localhost:8080/"
        },
        "id": "ezXr_ywC8rOb",
        "outputId": "e75d2775-766d-457a-ab89-47fe416c8003"
      },
      "execution_count": 118,
      "outputs": [
        {
          "output_type": "stream",
          "name": "stdout",
          "text": [
            "Series:\n",
            " b    10\n",
            "c    20\n",
            "a    30\n",
            "dtype: int64\n"
          ]
        }
      ]
    },
    {
      "cell_type": "code",
      "source": [
        "# Access by label and position\n",
        "print(\"\\nAccess by label (b):\", series['b'])\n",
        "print(\"Access by position (index 1):\", series[1])"
      ],
      "metadata": {
        "colab": {
          "base_uri": "https://localhost:8080/"
        },
        "id": "3tN7mvbI8tc_",
        "outputId": "deb1cccc-eb53-49c5-b35e-c50ab7dc4baa"
      },
      "execution_count": 119,
      "outputs": [
        {
          "output_type": "stream",
          "name": "stdout",
          "text": [
            "\n",
            "Access by label (b): 10\n",
            "Access by position (index 1): 20\n"
          ]
        },
        {
          "output_type": "stream",
          "name": "stderr",
          "text": [
            "<ipython-input-119-99c2fa05fc44>:3: FutureWarning: Series.__getitem__ treating keys as positions is deprecated. In a future version, integer keys will always be treated as labels (consistent with DataFrame behavior). To access a value by position, use `ser.iloc[pos]`\n",
            "  print(\"Access by position (index 1):\", series[1])\n"
          ]
        }
      ]
    },
    {
      "cell_type": "code",
      "source": [
        "# NumPy-like operation\n",
        "print(\"\\nSeries multiplied by 2:\\n\", series * 2)"
      ],
      "metadata": {
        "colab": {
          "base_uri": "https://localhost:8080/"
        },
        "id": "CShBF0Un8uq2",
        "outputId": "4578ab20-a200-4436-cab7-f523ef917d2f"
      },
      "execution_count": 120,
      "outputs": [
        {
          "output_type": "stream",
          "name": "stdout",
          "text": [
            "\n",
            "Series multiplied by 2:\n",
            " b    20\n",
            "c    40\n",
            "a    60\n",
            "dtype: int64\n"
          ]
        }
      ]
    },
    {
      "cell_type": "code",
      "source": [
        "# ▶️ Creating a DataFrame\n",
        "data = {\n",
        "    'Name': ['Alice', 'Bob', 'Charlie'],\n",
        "    'Age': [25, 30, 35],\n",
        "    'Salary': [50000, 60000, np.nan]  # np.nan to demonstrate missing data\n",
        "}"
      ],
      "metadata": {
        "id": "FIZtDkuM8wov"
      },
      "execution_count": 121,
      "outputs": []
    },
    {
      "cell_type": "code",
      "source": [
        "df = pd.DataFrame(data)"
      ],
      "metadata": {
        "id": "oypQLo5e9Yvu"
      },
      "execution_count": 122,
      "outputs": []
    },
    {
      "cell_type": "code",
      "source": [
        "print(\"DataFrame:\\n\", df)"
      ],
      "metadata": {
        "colab": {
          "base_uri": "https://localhost:8080/"
        },
        "id": "FfdSk9bJ9cBj",
        "outputId": "b66c98d4-686c-46cb-c4a9-27e90f16dcf0"
      },
      "execution_count": 123,
      "outputs": [
        {
          "output_type": "stream",
          "name": "stdout",
          "text": [
            "DataFrame:\n",
            "       Name  Age   Salary\n",
            "0    Alice   25  50000.0\n",
            "1      Bob   30  60000.0\n",
            "2  Charlie   35      NaN\n"
          ]
        }
      ]
    },
    {
      "cell_type": "code",
      "source": [
        "# Accessing rows and columns\n",
        "print(\"\\nAccess 'Age' column:\\n\", df['Age'])\n",
        "print(\"\\nAccess first row using .iloc:\\n\", df.iloc[0])"
      ],
      "metadata": {
        "colab": {
          "base_uri": "https://localhost:8080/"
        },
        "id": "VYSPSpA19dNE",
        "outputId": "55bb3dfb-199c-4a7d-fd61-cd399a7d6c37"
      },
      "execution_count": 124,
      "outputs": [
        {
          "output_type": "stream",
          "name": "stdout",
          "text": [
            "\n",
            "Access 'Age' column:\n",
            " 0    25\n",
            "1    30\n",
            "2    35\n",
            "Name: Age, dtype: int64\n",
            "\n",
            "Access first row using .iloc:\n",
            " Name        Alice\n",
            "Age            25\n",
            "Salary    50000.0\n",
            "Name: 0, dtype: object\n"
          ]
        }
      ]
    },
    {
      "cell_type": "code",
      "source": [
        "# Handling missing data\n",
        "print(\"\\nCheck for missing data:\\n\", df.isnull())"
      ],
      "metadata": {
        "colab": {
          "base_uri": "https://localhost:8080/"
        },
        "id": "5J2mTg5Y9eY6",
        "outputId": "85179e26-bb1b-4952-b216-79516f7ebb75"
      },
      "execution_count": 125,
      "outputs": [
        {
          "output_type": "stream",
          "name": "stdout",
          "text": [
            "\n",
            "Check for missing data:\n",
            "     Name    Age  Salary\n",
            "0  False  False   False\n",
            "1  False  False   False\n",
            "2  False  False    True\n"
          ]
        }
      ]
    },
    {
      "cell_type": "code",
      "source": [
        "# Basic statistics\n",
        "print(\"\\nDataFrame statistics:\\n\", df.describe())"
      ],
      "metadata": {
        "colab": {
          "base_uri": "https://localhost:8080/"
        },
        "id": "m2tPAyUk9gAw",
        "outputId": "1db8dc96-ea68-4e83-db51-9c383bab58d1"
      },
      "execution_count": 126,
      "outputs": [
        {
          "output_type": "stream",
          "name": "stdout",
          "text": [
            "\n",
            "DataFrame statistics:\n",
            "         Age        Salary\n",
            "count   3.0      2.000000\n",
            "mean   30.0  55000.000000\n",
            "std     5.0   7071.067812\n",
            "min    25.0  50000.000000\n",
            "25%    27.5  52500.000000\n",
            "50%    30.0  55000.000000\n",
            "75%    32.5  57500.000000\n",
            "max    35.0  60000.000000\n"
          ]
        }
      ]
    },
    {
      "cell_type": "code",
      "source": [
        "df = pd.DataFrame({\n",
        "    'Name': ['Alice', 'Bob', 'Charlie'],\n",
        "    'Age': [25, 30, 35],\n",
        "    'City': ['New York', 'Los Angeles', 'Chicago']\n",
        "})\n",
        "# Display the DataFrame\n",
        "df"
      ],
      "metadata": {
        "colab": {
          "base_uri": "https://localhost:8080/",
          "height": 143
        },
        "id": "GXtlqKN49gq0",
        "outputId": "0e97611d-76f6-40fa-f700-e5c11f7d75ec"
      },
      "execution_count": 127,
      "outputs": [
        {
          "output_type": "execute_result",
          "data": {
            "text/plain": [
              "      Name  Age         City\n",
              "0    Alice   25     New York\n",
              "1      Bob   30  Los Angeles\n",
              "2  Charlie   35      Chicago"
            ],
            "text/html": [
              "\n",
              "  <div id=\"df-cf905690-ecec-4832-af76-93b6eab32da2\" class=\"colab-df-container\">\n",
              "    <div>\n",
              "<style scoped>\n",
              "    .dataframe tbody tr th:only-of-type {\n",
              "        vertical-align: middle;\n",
              "    }\n",
              "\n",
              "    .dataframe tbody tr th {\n",
              "        vertical-align: top;\n",
              "    }\n",
              "\n",
              "    .dataframe thead th {\n",
              "        text-align: right;\n",
              "    }\n",
              "</style>\n",
              "<table border=\"1\" class=\"dataframe\">\n",
              "  <thead>\n",
              "    <tr style=\"text-align: right;\">\n",
              "      <th></th>\n",
              "      <th>Name</th>\n",
              "      <th>Age</th>\n",
              "      <th>City</th>\n",
              "    </tr>\n",
              "  </thead>\n",
              "  <tbody>\n",
              "    <tr>\n",
              "      <th>0</th>\n",
              "      <td>Alice</td>\n",
              "      <td>25</td>\n",
              "      <td>New York</td>\n",
              "    </tr>\n",
              "    <tr>\n",
              "      <th>1</th>\n",
              "      <td>Bob</td>\n",
              "      <td>30</td>\n",
              "      <td>Los Angeles</td>\n",
              "    </tr>\n",
              "    <tr>\n",
              "      <th>2</th>\n",
              "      <td>Charlie</td>\n",
              "      <td>35</td>\n",
              "      <td>Chicago</td>\n",
              "    </tr>\n",
              "  </tbody>\n",
              "</table>\n",
              "</div>\n",
              "    <div class=\"colab-df-buttons\">\n",
              "\n",
              "  <div class=\"colab-df-container\">\n",
              "    <button class=\"colab-df-convert\" onclick=\"convertToInteractive('df-cf905690-ecec-4832-af76-93b6eab32da2')\"\n",
              "            title=\"Convert this dataframe to an interactive table.\"\n",
              "            style=\"display:none;\">\n",
              "\n",
              "  <svg xmlns=\"http://www.w3.org/2000/svg\" height=\"24px\" viewBox=\"0 -960 960 960\">\n",
              "    <path d=\"M120-120v-720h720v720H120Zm60-500h600v-160H180v160Zm220 220h160v-160H400v160Zm0 220h160v-160H400v160ZM180-400h160v-160H180v160Zm440 0h160v-160H620v160ZM180-180h160v-160H180v160Zm440 0h160v-160H620v160Z\"/>\n",
              "  </svg>\n",
              "    </button>\n",
              "\n",
              "  <style>\n",
              "    .colab-df-container {\n",
              "      display:flex;\n",
              "      gap: 12px;\n",
              "    }\n",
              "\n",
              "    .colab-df-convert {\n",
              "      background-color: #E8F0FE;\n",
              "      border: none;\n",
              "      border-radius: 50%;\n",
              "      cursor: pointer;\n",
              "      display: none;\n",
              "      fill: #1967D2;\n",
              "      height: 32px;\n",
              "      padding: 0 0 0 0;\n",
              "      width: 32px;\n",
              "    }\n",
              "\n",
              "    .colab-df-convert:hover {\n",
              "      background-color: #E2EBFA;\n",
              "      box-shadow: 0px 1px 2px rgba(60, 64, 67, 0.3), 0px 1px 3px 1px rgba(60, 64, 67, 0.15);\n",
              "      fill: #174EA6;\n",
              "    }\n",
              "\n",
              "    .colab-df-buttons div {\n",
              "      margin-bottom: 4px;\n",
              "    }\n",
              "\n",
              "    [theme=dark] .colab-df-convert {\n",
              "      background-color: #3B4455;\n",
              "      fill: #D2E3FC;\n",
              "    }\n",
              "\n",
              "    [theme=dark] .colab-df-convert:hover {\n",
              "      background-color: #434B5C;\n",
              "      box-shadow: 0px 1px 3px 1px rgba(0, 0, 0, 0.15);\n",
              "      filter: drop-shadow(0px 1px 2px rgba(0, 0, 0, 0.3));\n",
              "      fill: #FFFFFF;\n",
              "    }\n",
              "  </style>\n",
              "\n",
              "    <script>\n",
              "      const buttonEl =\n",
              "        document.querySelector('#df-cf905690-ecec-4832-af76-93b6eab32da2 button.colab-df-convert');\n",
              "      buttonEl.style.display =\n",
              "        google.colab.kernel.accessAllowed ? 'block' : 'none';\n",
              "\n",
              "      async function convertToInteractive(key) {\n",
              "        const element = document.querySelector('#df-cf905690-ecec-4832-af76-93b6eab32da2');\n",
              "        const dataTable =\n",
              "          await google.colab.kernel.invokeFunction('convertToInteractive',\n",
              "                                                    [key], {});\n",
              "        if (!dataTable) return;\n",
              "\n",
              "        const docLinkHtml = 'Like what you see? Visit the ' +\n",
              "          '<a target=\"_blank\" href=https://colab.research.google.com/notebooks/data_table.ipynb>data table notebook</a>'\n",
              "          + ' to learn more about interactive tables.';\n",
              "        element.innerHTML = '';\n",
              "        dataTable['output_type'] = 'display_data';\n",
              "        await google.colab.output.renderOutput(dataTable, element);\n",
              "        const docLink = document.createElement('div');\n",
              "        docLink.innerHTML = docLinkHtml;\n",
              "        element.appendChild(docLink);\n",
              "      }\n",
              "    </script>\n",
              "  </div>\n",
              "\n",
              "\n",
              "<div id=\"df-74272de3-02d3-40cd-9ac9-b8adb94741a0\">\n",
              "  <button class=\"colab-df-quickchart\" onclick=\"quickchart('df-74272de3-02d3-40cd-9ac9-b8adb94741a0')\"\n",
              "            title=\"Suggest charts\"\n",
              "            style=\"display:none;\">\n",
              "\n",
              "<svg xmlns=\"http://www.w3.org/2000/svg\" height=\"24px\"viewBox=\"0 0 24 24\"\n",
              "     width=\"24px\">\n",
              "    <g>\n",
              "        <path d=\"M19 3H5c-1.1 0-2 .9-2 2v14c0 1.1.9 2 2 2h14c1.1 0 2-.9 2-2V5c0-1.1-.9-2-2-2zM9 17H7v-7h2v7zm4 0h-2V7h2v10zm4 0h-2v-4h2v4z\"/>\n",
              "    </g>\n",
              "</svg>\n",
              "  </button>\n",
              "\n",
              "<style>\n",
              "  .colab-df-quickchart {\n",
              "      --bg-color: #E8F0FE;\n",
              "      --fill-color: #1967D2;\n",
              "      --hover-bg-color: #E2EBFA;\n",
              "      --hover-fill-color: #174EA6;\n",
              "      --disabled-fill-color: #AAA;\n",
              "      --disabled-bg-color: #DDD;\n",
              "  }\n",
              "\n",
              "  [theme=dark] .colab-df-quickchart {\n",
              "      --bg-color: #3B4455;\n",
              "      --fill-color: #D2E3FC;\n",
              "      --hover-bg-color: #434B5C;\n",
              "      --hover-fill-color: #FFFFFF;\n",
              "      --disabled-bg-color: #3B4455;\n",
              "      --disabled-fill-color: #666;\n",
              "  }\n",
              "\n",
              "  .colab-df-quickchart {\n",
              "    background-color: var(--bg-color);\n",
              "    border: none;\n",
              "    border-radius: 50%;\n",
              "    cursor: pointer;\n",
              "    display: none;\n",
              "    fill: var(--fill-color);\n",
              "    height: 32px;\n",
              "    padding: 0;\n",
              "    width: 32px;\n",
              "  }\n",
              "\n",
              "  .colab-df-quickchart:hover {\n",
              "    background-color: var(--hover-bg-color);\n",
              "    box-shadow: 0 1px 2px rgba(60, 64, 67, 0.3), 0 1px 3px 1px rgba(60, 64, 67, 0.15);\n",
              "    fill: var(--button-hover-fill-color);\n",
              "  }\n",
              "\n",
              "  .colab-df-quickchart-complete:disabled,\n",
              "  .colab-df-quickchart-complete:disabled:hover {\n",
              "    background-color: var(--disabled-bg-color);\n",
              "    fill: var(--disabled-fill-color);\n",
              "    box-shadow: none;\n",
              "  }\n",
              "\n",
              "  .colab-df-spinner {\n",
              "    border: 2px solid var(--fill-color);\n",
              "    border-color: transparent;\n",
              "    border-bottom-color: var(--fill-color);\n",
              "    animation:\n",
              "      spin 1s steps(1) infinite;\n",
              "  }\n",
              "\n",
              "  @keyframes spin {\n",
              "    0% {\n",
              "      border-color: transparent;\n",
              "      border-bottom-color: var(--fill-color);\n",
              "      border-left-color: var(--fill-color);\n",
              "    }\n",
              "    20% {\n",
              "      border-color: transparent;\n",
              "      border-left-color: var(--fill-color);\n",
              "      border-top-color: var(--fill-color);\n",
              "    }\n",
              "    30% {\n",
              "      border-color: transparent;\n",
              "      border-left-color: var(--fill-color);\n",
              "      border-top-color: var(--fill-color);\n",
              "      border-right-color: var(--fill-color);\n",
              "    }\n",
              "    40% {\n",
              "      border-color: transparent;\n",
              "      border-right-color: var(--fill-color);\n",
              "      border-top-color: var(--fill-color);\n",
              "    }\n",
              "    60% {\n",
              "      border-color: transparent;\n",
              "      border-right-color: var(--fill-color);\n",
              "    }\n",
              "    80% {\n",
              "      border-color: transparent;\n",
              "      border-right-color: var(--fill-color);\n",
              "      border-bottom-color: var(--fill-color);\n",
              "    }\n",
              "    90% {\n",
              "      border-color: transparent;\n",
              "      border-bottom-color: var(--fill-color);\n",
              "    }\n",
              "  }\n",
              "</style>\n",
              "\n",
              "  <script>\n",
              "    async function quickchart(key) {\n",
              "      const quickchartButtonEl =\n",
              "        document.querySelector('#' + key + ' button');\n",
              "      quickchartButtonEl.disabled = true;  // To prevent multiple clicks.\n",
              "      quickchartButtonEl.classList.add('colab-df-spinner');\n",
              "      try {\n",
              "        const charts = await google.colab.kernel.invokeFunction(\n",
              "            'suggestCharts', [key], {});\n",
              "      } catch (error) {\n",
              "        console.error('Error during call to suggestCharts:', error);\n",
              "      }\n",
              "      quickchartButtonEl.classList.remove('colab-df-spinner');\n",
              "      quickchartButtonEl.classList.add('colab-df-quickchart-complete');\n",
              "    }\n",
              "    (() => {\n",
              "      let quickchartButtonEl =\n",
              "        document.querySelector('#df-74272de3-02d3-40cd-9ac9-b8adb94741a0 button');\n",
              "      quickchartButtonEl.style.display =\n",
              "        google.colab.kernel.accessAllowed ? 'block' : 'none';\n",
              "    })();\n",
              "  </script>\n",
              "</div>\n",
              "\n",
              "  <div id=\"id_4673faf9-b35b-4dc9-a592-7c642f769d22\">\n",
              "    <style>\n",
              "      .colab-df-generate {\n",
              "        background-color: #E8F0FE;\n",
              "        border: none;\n",
              "        border-radius: 50%;\n",
              "        cursor: pointer;\n",
              "        display: none;\n",
              "        fill: #1967D2;\n",
              "        height: 32px;\n",
              "        padding: 0 0 0 0;\n",
              "        width: 32px;\n",
              "      }\n",
              "\n",
              "      .colab-df-generate:hover {\n",
              "        background-color: #E2EBFA;\n",
              "        box-shadow: 0px 1px 2px rgba(60, 64, 67, 0.3), 0px 1px 3px 1px rgba(60, 64, 67, 0.15);\n",
              "        fill: #174EA6;\n",
              "      }\n",
              "\n",
              "      [theme=dark] .colab-df-generate {\n",
              "        background-color: #3B4455;\n",
              "        fill: #D2E3FC;\n",
              "      }\n",
              "\n",
              "      [theme=dark] .colab-df-generate:hover {\n",
              "        background-color: #434B5C;\n",
              "        box-shadow: 0px 1px 3px 1px rgba(0, 0, 0, 0.15);\n",
              "        filter: drop-shadow(0px 1px 2px rgba(0, 0, 0, 0.3));\n",
              "        fill: #FFFFFF;\n",
              "      }\n",
              "    </style>\n",
              "    <button class=\"colab-df-generate\" onclick=\"generateWithVariable('df')\"\n",
              "            title=\"Generate code using this dataframe.\"\n",
              "            style=\"display:none;\">\n",
              "\n",
              "  <svg xmlns=\"http://www.w3.org/2000/svg\" height=\"24px\"viewBox=\"0 0 24 24\"\n",
              "       width=\"24px\">\n",
              "    <path d=\"M7,19H8.4L18.45,9,17,7.55,7,17.6ZM5,21V16.75L18.45,3.32a2,2,0,0,1,2.83,0l1.4,1.43a1.91,1.91,0,0,1,.58,1.4,1.91,1.91,0,0,1-.58,1.4L9.25,21ZM18.45,9,17,7.55Zm-12,3A5.31,5.31,0,0,0,4.9,8.1,5.31,5.31,0,0,0,1,6.5,5.31,5.31,0,0,0,4.9,4.9,5.31,5.31,0,0,0,6.5,1,5.31,5.31,0,0,0,8.1,4.9,5.31,5.31,0,0,0,12,6.5,5.46,5.46,0,0,0,6.5,12Z\"/>\n",
              "  </svg>\n",
              "    </button>\n",
              "    <script>\n",
              "      (() => {\n",
              "      const buttonEl =\n",
              "        document.querySelector('#id_4673faf9-b35b-4dc9-a592-7c642f769d22 button.colab-df-generate');\n",
              "      buttonEl.style.display =\n",
              "        google.colab.kernel.accessAllowed ? 'block' : 'none';\n",
              "\n",
              "      buttonEl.onclick = () => {\n",
              "        google.colab.notebook.generateWithVariable('df');\n",
              "      }\n",
              "      })();\n",
              "    </script>\n",
              "  </div>\n",
              "\n",
              "    </div>\n",
              "  </div>\n"
            ],
            "application/vnd.google.colaboratory.intrinsic+json": {
              "type": "dataframe",
              "variable_name": "df",
              "summary": "{\n  \"name\": \"df\",\n  \"rows\": 3,\n  \"fields\": [\n    {\n      \"column\": \"Name\",\n      \"properties\": {\n        \"dtype\": \"string\",\n        \"num_unique_values\": 3,\n        \"samples\": [\n          \"Alice\",\n          \"Bob\",\n          \"Charlie\"\n        ],\n        \"semantic_type\": \"\",\n        \"description\": \"\"\n      }\n    },\n    {\n      \"column\": \"Age\",\n      \"properties\": {\n        \"dtype\": \"number\",\n        \"std\": 5,\n        \"min\": 25,\n        \"max\": 35,\n        \"num_unique_values\": 3,\n        \"samples\": [\n          25,\n          30,\n          35\n        ],\n        \"semantic_type\": \"\",\n        \"description\": \"\"\n      }\n    },\n    {\n      \"column\": \"City\",\n      \"properties\": {\n        \"dtype\": \"string\",\n        \"num_unique_values\": 3,\n        \"samples\": [\n          \"New York\",\n          \"Los Angeles\",\n          \"Chicago\"\n        ],\n        \"semantic_type\": \"\",\n        \"description\": \"\"\n      }\n    }\n  ]\n}"
            }
          },
          "metadata": {},
          "execution_count": 127
        }
      ]
    },
    {
      "cell_type": "code",
      "source": [
        "# Write to CSV\n",
        "df.to_csv('sample_data.csv', index=False)  # Saves without the index column\n",
        "print(\" CSV file written: sample_data.csv\")"
      ],
      "metadata": {
        "colab": {
          "base_uri": "https://localhost:8080/"
        },
        "id": "cg44jT2E_67D",
        "outputId": "8b31599b-590b-4fc7-e010-66fc978691c2"
      },
      "execution_count": 128,
      "outputs": [
        {
          "output_type": "stream",
          "name": "stdout",
          "text": [
            " CSV file written: sample_data.csv\n"
          ]
        }
      ]
    },
    {
      "cell_type": "code",
      "source": [
        "# Read from CSV\n",
        "df_loaded = pd.read_csv('sample_data.csv')"
      ],
      "metadata": {
        "id": "UM8xxaBC__fP"
      },
      "execution_count": 129,
      "outputs": []
    },
    {
      "cell_type": "code",
      "source": [
        "# Show loaded DataFrame\n",
        "print(\"Loaded CSV:\")\n",
        "print(df_loaded)"
      ],
      "metadata": {
        "colab": {
          "base_uri": "https://localhost:8080/"
        },
        "id": "ljpiIrGFAHo9",
        "outputId": "ea078422-e30c-49fa-b051-f74e0fcdc7c4"
      },
      "execution_count": 130,
      "outputs": [
        {
          "output_type": "stream",
          "name": "stdout",
          "text": [
            "Loaded CSV:\n",
            "      Name  Age         City\n",
            "0    Alice   25     New York\n",
            "1      Bob   30  Los Angeles\n",
            "2  Charlie   35      Chicago\n"
          ]
        }
      ]
    },
    {
      "cell_type": "code",
      "source": [
        "# Reading only first 2 rows and setting 'Name' as the index\n",
        "df_partial = pd.read_csv('sample_data.csv', nrows=2, index_col='Name')\n",
        "print(\"Partial CSV Read (2 rows, 'Name' as index):\\n\", df_partial)"
      ],
      "metadata": {
        "colab": {
          "base_uri": "https://localhost:8080/"
        },
        "id": "T1p-DRg_AKaj",
        "outputId": "46d4f20e-27f3-4dd9-9642-0b988d1d00ca"
      },
      "execution_count": 131,
      "outputs": [
        {
          "output_type": "stream",
          "name": "stdout",
          "text": [
            "Partial CSV Read (2 rows, 'Name' as index):\n",
            "        Age         City\n",
            "Name                   \n",
            "Alice   25     New York\n",
            "Bob     30  Los Angeles\n"
          ]
        }
      ]
    },
    {
      "cell_type": "code",
      "source": [
        "df = pd.DataFrame({\n",
        "    'Product': ['Laptop', 'Mouse', 'Keyboard'],\n",
        "    'Price': [1200, 25, 75],\n",
        "    'Quantity': [10, 100, 50]\n",
        "})\n",
        "# Show DataFrame\n",
        "df"
      ],
      "metadata": {
        "colab": {
          "base_uri": "https://localhost:8080/",
          "height": 143
        },
        "id": "78EWrpG3ARc2",
        "outputId": "1f398906-f87e-477f-df3c-48b77dc845b0"
      },
      "execution_count": 132,
      "outputs": [
        {
          "output_type": "execute_result",
          "data": {
            "text/plain": [
              "    Product  Price  Quantity\n",
              "0    Laptop   1200        10\n",
              "1     Mouse     25       100\n",
              "2  Keyboard     75        50"
            ],
            "text/html": [
              "\n",
              "  <div id=\"df-7648348d-2780-4ca6-993e-b4fcbcb871d2\" class=\"colab-df-container\">\n",
              "    <div>\n",
              "<style scoped>\n",
              "    .dataframe tbody tr th:only-of-type {\n",
              "        vertical-align: middle;\n",
              "    }\n",
              "\n",
              "    .dataframe tbody tr th {\n",
              "        vertical-align: top;\n",
              "    }\n",
              "\n",
              "    .dataframe thead th {\n",
              "        text-align: right;\n",
              "    }\n",
              "</style>\n",
              "<table border=\"1\" class=\"dataframe\">\n",
              "  <thead>\n",
              "    <tr style=\"text-align: right;\">\n",
              "      <th></th>\n",
              "      <th>Product</th>\n",
              "      <th>Price</th>\n",
              "      <th>Quantity</th>\n",
              "    </tr>\n",
              "  </thead>\n",
              "  <tbody>\n",
              "    <tr>\n",
              "      <th>0</th>\n",
              "      <td>Laptop</td>\n",
              "      <td>1200</td>\n",
              "      <td>10</td>\n",
              "    </tr>\n",
              "    <tr>\n",
              "      <th>1</th>\n",
              "      <td>Mouse</td>\n",
              "      <td>25</td>\n",
              "      <td>100</td>\n",
              "    </tr>\n",
              "    <tr>\n",
              "      <th>2</th>\n",
              "      <td>Keyboard</td>\n",
              "      <td>75</td>\n",
              "      <td>50</td>\n",
              "    </tr>\n",
              "  </tbody>\n",
              "</table>\n",
              "</div>\n",
              "    <div class=\"colab-df-buttons\">\n",
              "\n",
              "  <div class=\"colab-df-container\">\n",
              "    <button class=\"colab-df-convert\" onclick=\"convertToInteractive('df-7648348d-2780-4ca6-993e-b4fcbcb871d2')\"\n",
              "            title=\"Convert this dataframe to an interactive table.\"\n",
              "            style=\"display:none;\">\n",
              "\n",
              "  <svg xmlns=\"http://www.w3.org/2000/svg\" height=\"24px\" viewBox=\"0 -960 960 960\">\n",
              "    <path d=\"M120-120v-720h720v720H120Zm60-500h600v-160H180v160Zm220 220h160v-160H400v160Zm0 220h160v-160H400v160ZM180-400h160v-160H180v160Zm440 0h160v-160H620v160ZM180-180h160v-160H180v160Zm440 0h160v-160H620v160Z\"/>\n",
              "  </svg>\n",
              "    </button>\n",
              "\n",
              "  <style>\n",
              "    .colab-df-container {\n",
              "      display:flex;\n",
              "      gap: 12px;\n",
              "    }\n",
              "\n",
              "    .colab-df-convert {\n",
              "      background-color: #E8F0FE;\n",
              "      border: none;\n",
              "      border-radius: 50%;\n",
              "      cursor: pointer;\n",
              "      display: none;\n",
              "      fill: #1967D2;\n",
              "      height: 32px;\n",
              "      padding: 0 0 0 0;\n",
              "      width: 32px;\n",
              "    }\n",
              "\n",
              "    .colab-df-convert:hover {\n",
              "      background-color: #E2EBFA;\n",
              "      box-shadow: 0px 1px 2px rgba(60, 64, 67, 0.3), 0px 1px 3px 1px rgba(60, 64, 67, 0.15);\n",
              "      fill: #174EA6;\n",
              "    }\n",
              "\n",
              "    .colab-df-buttons div {\n",
              "      margin-bottom: 4px;\n",
              "    }\n",
              "\n",
              "    [theme=dark] .colab-df-convert {\n",
              "      background-color: #3B4455;\n",
              "      fill: #D2E3FC;\n",
              "    }\n",
              "\n",
              "    [theme=dark] .colab-df-convert:hover {\n",
              "      background-color: #434B5C;\n",
              "      box-shadow: 0px 1px 3px 1px rgba(0, 0, 0, 0.15);\n",
              "      filter: drop-shadow(0px 1px 2px rgba(0, 0, 0, 0.3));\n",
              "      fill: #FFFFFF;\n",
              "    }\n",
              "  </style>\n",
              "\n",
              "    <script>\n",
              "      const buttonEl =\n",
              "        document.querySelector('#df-7648348d-2780-4ca6-993e-b4fcbcb871d2 button.colab-df-convert');\n",
              "      buttonEl.style.display =\n",
              "        google.colab.kernel.accessAllowed ? 'block' : 'none';\n",
              "\n",
              "      async function convertToInteractive(key) {\n",
              "        const element = document.querySelector('#df-7648348d-2780-4ca6-993e-b4fcbcb871d2');\n",
              "        const dataTable =\n",
              "          await google.colab.kernel.invokeFunction('convertToInteractive',\n",
              "                                                    [key], {});\n",
              "        if (!dataTable) return;\n",
              "\n",
              "        const docLinkHtml = 'Like what you see? Visit the ' +\n",
              "          '<a target=\"_blank\" href=https://colab.research.google.com/notebooks/data_table.ipynb>data table notebook</a>'\n",
              "          + ' to learn more about interactive tables.';\n",
              "        element.innerHTML = '';\n",
              "        dataTable['output_type'] = 'display_data';\n",
              "        await google.colab.output.renderOutput(dataTable, element);\n",
              "        const docLink = document.createElement('div');\n",
              "        docLink.innerHTML = docLinkHtml;\n",
              "        element.appendChild(docLink);\n",
              "      }\n",
              "    </script>\n",
              "  </div>\n",
              "\n",
              "\n",
              "<div id=\"df-9001f2d5-c644-4fa6-821c-07887275563f\">\n",
              "  <button class=\"colab-df-quickchart\" onclick=\"quickchart('df-9001f2d5-c644-4fa6-821c-07887275563f')\"\n",
              "            title=\"Suggest charts\"\n",
              "            style=\"display:none;\">\n",
              "\n",
              "<svg xmlns=\"http://www.w3.org/2000/svg\" height=\"24px\"viewBox=\"0 0 24 24\"\n",
              "     width=\"24px\">\n",
              "    <g>\n",
              "        <path d=\"M19 3H5c-1.1 0-2 .9-2 2v14c0 1.1.9 2 2 2h14c1.1 0 2-.9 2-2V5c0-1.1-.9-2-2-2zM9 17H7v-7h2v7zm4 0h-2V7h2v10zm4 0h-2v-4h2v4z\"/>\n",
              "    </g>\n",
              "</svg>\n",
              "  </button>\n",
              "\n",
              "<style>\n",
              "  .colab-df-quickchart {\n",
              "      --bg-color: #E8F0FE;\n",
              "      --fill-color: #1967D2;\n",
              "      --hover-bg-color: #E2EBFA;\n",
              "      --hover-fill-color: #174EA6;\n",
              "      --disabled-fill-color: #AAA;\n",
              "      --disabled-bg-color: #DDD;\n",
              "  }\n",
              "\n",
              "  [theme=dark] .colab-df-quickchart {\n",
              "      --bg-color: #3B4455;\n",
              "      --fill-color: #D2E3FC;\n",
              "      --hover-bg-color: #434B5C;\n",
              "      --hover-fill-color: #FFFFFF;\n",
              "      --disabled-bg-color: #3B4455;\n",
              "      --disabled-fill-color: #666;\n",
              "  }\n",
              "\n",
              "  .colab-df-quickchart {\n",
              "    background-color: var(--bg-color);\n",
              "    border: none;\n",
              "    border-radius: 50%;\n",
              "    cursor: pointer;\n",
              "    display: none;\n",
              "    fill: var(--fill-color);\n",
              "    height: 32px;\n",
              "    padding: 0;\n",
              "    width: 32px;\n",
              "  }\n",
              "\n",
              "  .colab-df-quickchart:hover {\n",
              "    background-color: var(--hover-bg-color);\n",
              "    box-shadow: 0 1px 2px rgba(60, 64, 67, 0.3), 0 1px 3px 1px rgba(60, 64, 67, 0.15);\n",
              "    fill: var(--button-hover-fill-color);\n",
              "  }\n",
              "\n",
              "  .colab-df-quickchart-complete:disabled,\n",
              "  .colab-df-quickchart-complete:disabled:hover {\n",
              "    background-color: var(--disabled-bg-color);\n",
              "    fill: var(--disabled-fill-color);\n",
              "    box-shadow: none;\n",
              "  }\n",
              "\n",
              "  .colab-df-spinner {\n",
              "    border: 2px solid var(--fill-color);\n",
              "    border-color: transparent;\n",
              "    border-bottom-color: var(--fill-color);\n",
              "    animation:\n",
              "      spin 1s steps(1) infinite;\n",
              "  }\n",
              "\n",
              "  @keyframes spin {\n",
              "    0% {\n",
              "      border-color: transparent;\n",
              "      border-bottom-color: var(--fill-color);\n",
              "      border-left-color: var(--fill-color);\n",
              "    }\n",
              "    20% {\n",
              "      border-color: transparent;\n",
              "      border-left-color: var(--fill-color);\n",
              "      border-top-color: var(--fill-color);\n",
              "    }\n",
              "    30% {\n",
              "      border-color: transparent;\n",
              "      border-left-color: var(--fill-color);\n",
              "      border-top-color: var(--fill-color);\n",
              "      border-right-color: var(--fill-color);\n",
              "    }\n",
              "    40% {\n",
              "      border-color: transparent;\n",
              "      border-right-color: var(--fill-color);\n",
              "      border-top-color: var(--fill-color);\n",
              "    }\n",
              "    60% {\n",
              "      border-color: transparent;\n",
              "      border-right-color: var(--fill-color);\n",
              "    }\n",
              "    80% {\n",
              "      border-color: transparent;\n",
              "      border-right-color: var(--fill-color);\n",
              "      border-bottom-color: var(--fill-color);\n",
              "    }\n",
              "    90% {\n",
              "      border-color: transparent;\n",
              "      border-bottom-color: var(--fill-color);\n",
              "    }\n",
              "  }\n",
              "</style>\n",
              "\n",
              "  <script>\n",
              "    async function quickchart(key) {\n",
              "      const quickchartButtonEl =\n",
              "        document.querySelector('#' + key + ' button');\n",
              "      quickchartButtonEl.disabled = true;  // To prevent multiple clicks.\n",
              "      quickchartButtonEl.classList.add('colab-df-spinner');\n",
              "      try {\n",
              "        const charts = await google.colab.kernel.invokeFunction(\n",
              "            'suggestCharts', [key], {});\n",
              "      } catch (error) {\n",
              "        console.error('Error during call to suggestCharts:', error);\n",
              "      }\n",
              "      quickchartButtonEl.classList.remove('colab-df-spinner');\n",
              "      quickchartButtonEl.classList.add('colab-df-quickchart-complete');\n",
              "    }\n",
              "    (() => {\n",
              "      let quickchartButtonEl =\n",
              "        document.querySelector('#df-9001f2d5-c644-4fa6-821c-07887275563f button');\n",
              "      quickchartButtonEl.style.display =\n",
              "        google.colab.kernel.accessAllowed ? 'block' : 'none';\n",
              "    })();\n",
              "  </script>\n",
              "</div>\n",
              "\n",
              "  <div id=\"id_12053fe8-200c-42d3-b4b1-8e7e22f8b484\">\n",
              "    <style>\n",
              "      .colab-df-generate {\n",
              "        background-color: #E8F0FE;\n",
              "        border: none;\n",
              "        border-radius: 50%;\n",
              "        cursor: pointer;\n",
              "        display: none;\n",
              "        fill: #1967D2;\n",
              "        height: 32px;\n",
              "        padding: 0 0 0 0;\n",
              "        width: 32px;\n",
              "      }\n",
              "\n",
              "      .colab-df-generate:hover {\n",
              "        background-color: #E2EBFA;\n",
              "        box-shadow: 0px 1px 2px rgba(60, 64, 67, 0.3), 0px 1px 3px 1px rgba(60, 64, 67, 0.15);\n",
              "        fill: #174EA6;\n",
              "      }\n",
              "\n",
              "      [theme=dark] .colab-df-generate {\n",
              "        background-color: #3B4455;\n",
              "        fill: #D2E3FC;\n",
              "      }\n",
              "\n",
              "      [theme=dark] .colab-df-generate:hover {\n",
              "        background-color: #434B5C;\n",
              "        box-shadow: 0px 1px 3px 1px rgba(0, 0, 0, 0.15);\n",
              "        filter: drop-shadow(0px 1px 2px rgba(0, 0, 0, 0.3));\n",
              "        fill: #FFFFFF;\n",
              "      }\n",
              "    </style>\n",
              "    <button class=\"colab-df-generate\" onclick=\"generateWithVariable('df')\"\n",
              "            title=\"Generate code using this dataframe.\"\n",
              "            style=\"display:none;\">\n",
              "\n",
              "  <svg xmlns=\"http://www.w3.org/2000/svg\" height=\"24px\"viewBox=\"0 0 24 24\"\n",
              "       width=\"24px\">\n",
              "    <path d=\"M7,19H8.4L18.45,9,17,7.55,7,17.6ZM5,21V16.75L18.45,3.32a2,2,0,0,1,2.83,0l1.4,1.43a1.91,1.91,0,0,1,.58,1.4,1.91,1.91,0,0,1-.58,1.4L9.25,21ZM18.45,9,17,7.55Zm-12,3A5.31,5.31,0,0,0,4.9,8.1,5.31,5.31,0,0,0,1,6.5,5.31,5.31,0,0,0,4.9,4.9,5.31,5.31,0,0,0,6.5,1,5.31,5.31,0,0,0,8.1,4.9,5.31,5.31,0,0,0,12,6.5,5.46,5.46,0,0,0,6.5,12Z\"/>\n",
              "  </svg>\n",
              "    </button>\n",
              "    <script>\n",
              "      (() => {\n",
              "      const buttonEl =\n",
              "        document.querySelector('#id_12053fe8-200c-42d3-b4b1-8e7e22f8b484 button.colab-df-generate');\n",
              "      buttonEl.style.display =\n",
              "        google.colab.kernel.accessAllowed ? 'block' : 'none';\n",
              "\n",
              "      buttonEl.onclick = () => {\n",
              "        google.colab.notebook.generateWithVariable('df');\n",
              "      }\n",
              "      })();\n",
              "    </script>\n",
              "  </div>\n",
              "\n",
              "    </div>\n",
              "  </div>\n"
            ],
            "application/vnd.google.colaboratory.intrinsic+json": {
              "type": "dataframe",
              "variable_name": "df",
              "summary": "{\n  \"name\": \"df\",\n  \"rows\": 3,\n  \"fields\": [\n    {\n      \"column\": \"Product\",\n      \"properties\": {\n        \"dtype\": \"string\",\n        \"num_unique_values\": 3,\n        \"samples\": [\n          \"Laptop\",\n          \"Mouse\",\n          \"Keyboard\"\n        ],\n        \"semantic_type\": \"\",\n        \"description\": \"\"\n      }\n    },\n    {\n      \"column\": \"Price\",\n      \"properties\": {\n        \"dtype\": \"number\",\n        \"std\": 664,\n        \"min\": 25,\n        \"max\": 1200,\n        \"num_unique_values\": 3,\n        \"samples\": [\n          1200,\n          25,\n          75\n        ],\n        \"semantic_type\": \"\",\n        \"description\": \"\"\n      }\n    },\n    {\n      \"column\": \"Quantity\",\n      \"properties\": {\n        \"dtype\": \"number\",\n        \"std\": 45,\n        \"min\": 10,\n        \"max\": 100,\n        \"num_unique_values\": 3,\n        \"samples\": [\n          10,\n          100,\n          50\n        ],\n        \"semantic_type\": \"\",\n        \"description\": \"\"\n      }\n    }\n  ]\n}"
            }
          },
          "metadata": {},
          "execution_count": 132
        }
      ]
    },
    {
      "cell_type": "code",
      "source": [
        "# Write to Excel\n",
        "df.to_excel('products.xlsx', index=False, sheet_name='Inventory')\n",
        "print(\"Excel file written: products.xlsx\")"
      ],
      "metadata": {
        "colab": {
          "base_uri": "https://localhost:8080/"
        },
        "id": "HuTHL2adAlgA",
        "outputId": "7b0fbb5b-dcb5-4008-d5e8-ef86e92c49f7"
      },
      "execution_count": 133,
      "outputs": [
        {
          "output_type": "stream",
          "name": "stdout",
          "text": [
            "Excel file written: products.xlsx\n"
          ]
        }
      ]
    },
    {
      "cell_type": "code",
      "source": [
        "# Read from Excel\n",
        "df_loaded = pd.read_excel('products.xlsx', sheet_name='Inventory')\n",
        "\n",
        "# Display loaded DataFrame\n",
        "print(\"Loaded Excel Data:\")\n",
        "print(df_loaded)"
      ],
      "metadata": {
        "colab": {
          "base_uri": "https://localhost:8080/"
        },
        "id": "l5y52Ll1Aqo5",
        "outputId": "7daefdee-0d76-41d8-a3d6-c6d32135f611"
      },
      "execution_count": 134,
      "outputs": [
        {
          "output_type": "stream",
          "name": "stdout",
          "text": [
            "Loaded Excel Data:\n",
            "    Product  Price  Quantity\n",
            "0    Laptop   1200        10\n",
            "1     Mouse     25       100\n",
            "2  Keyboard     75        50\n"
          ]
        }
      ]
    },
    {
      "cell_type": "code",
      "source": [
        "# Writing multiple sheets\n",
        "with pd.ExcelWriter('multi_sheet.xlsx', engine='openpyxl') as writer:\n",
        "    df.to_excel(writer, sheet_name='Sheet1', index=False)\n",
        "    df.describe().to_excel(writer, sheet_name='Summary')"
      ],
      "metadata": {
        "id": "2xAAbNGpAwr_"
      },
      "execution_count": 135,
      "outputs": []
    },
    {
      "cell_type": "code",
      "source": [
        "print(\"Excel file with multiple sheets saved: multi_sheet.xlsx\")"
      ],
      "metadata": {
        "colab": {
          "base_uri": "https://localhost:8080/"
        },
        "id": "w82xIN8iA2bT",
        "outputId": "68fbb402-bab8-441f-8442-f583ba2ef08e"
      },
      "execution_count": 136,
      "outputs": [
        {
          "output_type": "stream",
          "name": "stdout",
          "text": [
            "Excel file with multiple sheets saved: multi_sheet.xlsx\n"
          ]
        }
      ]
    },
    {
      "cell_type": "code",
      "source": [
        "df = pd.DataFrame({\n",
        "    'Name': ['Alice', 'Bob', 'Charlie', 'David', 'Eva', 'Frank'],\n",
        "    'Age': [25, 30, 35, 40, 28, 22],\n",
        "    'Salary': [50000, 60000, 70000, 80000, 62000, 45000],\n",
        "    'Department': ['HR', 'Finance', 'IT', 'HR', 'IT', 'Finance']\n",
        "})\n",
        "\n",
        "df"
      ],
      "metadata": {
        "colab": {
          "base_uri": "https://localhost:8080/",
          "height": 237
        },
        "id": "SLKR8L4sBEku",
        "outputId": "b4fecf59-605f-43eb-9064-3740a1253584"
      },
      "execution_count": 137,
      "outputs": [
        {
          "output_type": "execute_result",
          "data": {
            "text/plain": [
              "      Name  Age  Salary Department\n",
              "0    Alice   25   50000         HR\n",
              "1      Bob   30   60000    Finance\n",
              "2  Charlie   35   70000         IT\n",
              "3    David   40   80000         HR\n",
              "4      Eva   28   62000         IT\n",
              "5    Frank   22   45000    Finance"
            ],
            "text/html": [
              "\n",
              "  <div id=\"df-ba18b2fa-0f6d-4ebe-b34f-a4abe3643233\" class=\"colab-df-container\">\n",
              "    <div>\n",
              "<style scoped>\n",
              "    .dataframe tbody tr th:only-of-type {\n",
              "        vertical-align: middle;\n",
              "    }\n",
              "\n",
              "    .dataframe tbody tr th {\n",
              "        vertical-align: top;\n",
              "    }\n",
              "\n",
              "    .dataframe thead th {\n",
              "        text-align: right;\n",
              "    }\n",
              "</style>\n",
              "<table border=\"1\" class=\"dataframe\">\n",
              "  <thead>\n",
              "    <tr style=\"text-align: right;\">\n",
              "      <th></th>\n",
              "      <th>Name</th>\n",
              "      <th>Age</th>\n",
              "      <th>Salary</th>\n",
              "      <th>Department</th>\n",
              "    </tr>\n",
              "  </thead>\n",
              "  <tbody>\n",
              "    <tr>\n",
              "      <th>0</th>\n",
              "      <td>Alice</td>\n",
              "      <td>25</td>\n",
              "      <td>50000</td>\n",
              "      <td>HR</td>\n",
              "    </tr>\n",
              "    <tr>\n",
              "      <th>1</th>\n",
              "      <td>Bob</td>\n",
              "      <td>30</td>\n",
              "      <td>60000</td>\n",
              "      <td>Finance</td>\n",
              "    </tr>\n",
              "    <tr>\n",
              "      <th>2</th>\n",
              "      <td>Charlie</td>\n",
              "      <td>35</td>\n",
              "      <td>70000</td>\n",
              "      <td>IT</td>\n",
              "    </tr>\n",
              "    <tr>\n",
              "      <th>3</th>\n",
              "      <td>David</td>\n",
              "      <td>40</td>\n",
              "      <td>80000</td>\n",
              "      <td>HR</td>\n",
              "    </tr>\n",
              "    <tr>\n",
              "      <th>4</th>\n",
              "      <td>Eva</td>\n",
              "      <td>28</td>\n",
              "      <td>62000</td>\n",
              "      <td>IT</td>\n",
              "    </tr>\n",
              "    <tr>\n",
              "      <th>5</th>\n",
              "      <td>Frank</td>\n",
              "      <td>22</td>\n",
              "      <td>45000</td>\n",
              "      <td>Finance</td>\n",
              "    </tr>\n",
              "  </tbody>\n",
              "</table>\n",
              "</div>\n",
              "    <div class=\"colab-df-buttons\">\n",
              "\n",
              "  <div class=\"colab-df-container\">\n",
              "    <button class=\"colab-df-convert\" onclick=\"convertToInteractive('df-ba18b2fa-0f6d-4ebe-b34f-a4abe3643233')\"\n",
              "            title=\"Convert this dataframe to an interactive table.\"\n",
              "            style=\"display:none;\">\n",
              "\n",
              "  <svg xmlns=\"http://www.w3.org/2000/svg\" height=\"24px\" viewBox=\"0 -960 960 960\">\n",
              "    <path d=\"M120-120v-720h720v720H120Zm60-500h600v-160H180v160Zm220 220h160v-160H400v160Zm0 220h160v-160H400v160ZM180-400h160v-160H180v160Zm440 0h160v-160H620v160ZM180-180h160v-160H180v160Zm440 0h160v-160H620v160Z\"/>\n",
              "  </svg>\n",
              "    </button>\n",
              "\n",
              "  <style>\n",
              "    .colab-df-container {\n",
              "      display:flex;\n",
              "      gap: 12px;\n",
              "    }\n",
              "\n",
              "    .colab-df-convert {\n",
              "      background-color: #E8F0FE;\n",
              "      border: none;\n",
              "      border-radius: 50%;\n",
              "      cursor: pointer;\n",
              "      display: none;\n",
              "      fill: #1967D2;\n",
              "      height: 32px;\n",
              "      padding: 0 0 0 0;\n",
              "      width: 32px;\n",
              "    }\n",
              "\n",
              "    .colab-df-convert:hover {\n",
              "      background-color: #E2EBFA;\n",
              "      box-shadow: 0px 1px 2px rgba(60, 64, 67, 0.3), 0px 1px 3px 1px rgba(60, 64, 67, 0.15);\n",
              "      fill: #174EA6;\n",
              "    }\n",
              "\n",
              "    .colab-df-buttons div {\n",
              "      margin-bottom: 4px;\n",
              "    }\n",
              "\n",
              "    [theme=dark] .colab-df-convert {\n",
              "      background-color: #3B4455;\n",
              "      fill: #D2E3FC;\n",
              "    }\n",
              "\n",
              "    [theme=dark] .colab-df-convert:hover {\n",
              "      background-color: #434B5C;\n",
              "      box-shadow: 0px 1px 3px 1px rgba(0, 0, 0, 0.15);\n",
              "      filter: drop-shadow(0px 1px 2px rgba(0, 0, 0, 0.3));\n",
              "      fill: #FFFFFF;\n",
              "    }\n",
              "  </style>\n",
              "\n",
              "    <script>\n",
              "      const buttonEl =\n",
              "        document.querySelector('#df-ba18b2fa-0f6d-4ebe-b34f-a4abe3643233 button.colab-df-convert');\n",
              "      buttonEl.style.display =\n",
              "        google.colab.kernel.accessAllowed ? 'block' : 'none';\n",
              "\n",
              "      async function convertToInteractive(key) {\n",
              "        const element = document.querySelector('#df-ba18b2fa-0f6d-4ebe-b34f-a4abe3643233');\n",
              "        const dataTable =\n",
              "          await google.colab.kernel.invokeFunction('convertToInteractive',\n",
              "                                                    [key], {});\n",
              "        if (!dataTable) return;\n",
              "\n",
              "        const docLinkHtml = 'Like what you see? Visit the ' +\n",
              "          '<a target=\"_blank\" href=https://colab.research.google.com/notebooks/data_table.ipynb>data table notebook</a>'\n",
              "          + ' to learn more about interactive tables.';\n",
              "        element.innerHTML = '';\n",
              "        dataTable['output_type'] = 'display_data';\n",
              "        await google.colab.output.renderOutput(dataTable, element);\n",
              "        const docLink = document.createElement('div');\n",
              "        docLink.innerHTML = docLinkHtml;\n",
              "        element.appendChild(docLink);\n",
              "      }\n",
              "    </script>\n",
              "  </div>\n",
              "\n",
              "\n",
              "<div id=\"df-add5d464-4d3d-400f-995a-c3309c334144\">\n",
              "  <button class=\"colab-df-quickchart\" onclick=\"quickchart('df-add5d464-4d3d-400f-995a-c3309c334144')\"\n",
              "            title=\"Suggest charts\"\n",
              "            style=\"display:none;\">\n",
              "\n",
              "<svg xmlns=\"http://www.w3.org/2000/svg\" height=\"24px\"viewBox=\"0 0 24 24\"\n",
              "     width=\"24px\">\n",
              "    <g>\n",
              "        <path d=\"M19 3H5c-1.1 0-2 .9-2 2v14c0 1.1.9 2 2 2h14c1.1 0 2-.9 2-2V5c0-1.1-.9-2-2-2zM9 17H7v-7h2v7zm4 0h-2V7h2v10zm4 0h-2v-4h2v4z\"/>\n",
              "    </g>\n",
              "</svg>\n",
              "  </button>\n",
              "\n",
              "<style>\n",
              "  .colab-df-quickchart {\n",
              "      --bg-color: #E8F0FE;\n",
              "      --fill-color: #1967D2;\n",
              "      --hover-bg-color: #E2EBFA;\n",
              "      --hover-fill-color: #174EA6;\n",
              "      --disabled-fill-color: #AAA;\n",
              "      --disabled-bg-color: #DDD;\n",
              "  }\n",
              "\n",
              "  [theme=dark] .colab-df-quickchart {\n",
              "      --bg-color: #3B4455;\n",
              "      --fill-color: #D2E3FC;\n",
              "      --hover-bg-color: #434B5C;\n",
              "      --hover-fill-color: #FFFFFF;\n",
              "      --disabled-bg-color: #3B4455;\n",
              "      --disabled-fill-color: #666;\n",
              "  }\n",
              "\n",
              "  .colab-df-quickchart {\n",
              "    background-color: var(--bg-color);\n",
              "    border: none;\n",
              "    border-radius: 50%;\n",
              "    cursor: pointer;\n",
              "    display: none;\n",
              "    fill: var(--fill-color);\n",
              "    height: 32px;\n",
              "    padding: 0;\n",
              "    width: 32px;\n",
              "  }\n",
              "\n",
              "  .colab-df-quickchart:hover {\n",
              "    background-color: var(--hover-bg-color);\n",
              "    box-shadow: 0 1px 2px rgba(60, 64, 67, 0.3), 0 1px 3px 1px rgba(60, 64, 67, 0.15);\n",
              "    fill: var(--button-hover-fill-color);\n",
              "  }\n",
              "\n",
              "  .colab-df-quickchart-complete:disabled,\n",
              "  .colab-df-quickchart-complete:disabled:hover {\n",
              "    background-color: var(--disabled-bg-color);\n",
              "    fill: var(--disabled-fill-color);\n",
              "    box-shadow: none;\n",
              "  }\n",
              "\n",
              "  .colab-df-spinner {\n",
              "    border: 2px solid var(--fill-color);\n",
              "    border-color: transparent;\n",
              "    border-bottom-color: var(--fill-color);\n",
              "    animation:\n",
              "      spin 1s steps(1) infinite;\n",
              "  }\n",
              "\n",
              "  @keyframes spin {\n",
              "    0% {\n",
              "      border-color: transparent;\n",
              "      border-bottom-color: var(--fill-color);\n",
              "      border-left-color: var(--fill-color);\n",
              "    }\n",
              "    20% {\n",
              "      border-color: transparent;\n",
              "      border-left-color: var(--fill-color);\n",
              "      border-top-color: var(--fill-color);\n",
              "    }\n",
              "    30% {\n",
              "      border-color: transparent;\n",
              "      border-left-color: var(--fill-color);\n",
              "      border-top-color: var(--fill-color);\n",
              "      border-right-color: var(--fill-color);\n",
              "    }\n",
              "    40% {\n",
              "      border-color: transparent;\n",
              "      border-right-color: var(--fill-color);\n",
              "      border-top-color: var(--fill-color);\n",
              "    }\n",
              "    60% {\n",
              "      border-color: transparent;\n",
              "      border-right-color: var(--fill-color);\n",
              "    }\n",
              "    80% {\n",
              "      border-color: transparent;\n",
              "      border-right-color: var(--fill-color);\n",
              "      border-bottom-color: var(--fill-color);\n",
              "    }\n",
              "    90% {\n",
              "      border-color: transparent;\n",
              "      border-bottom-color: var(--fill-color);\n",
              "    }\n",
              "  }\n",
              "</style>\n",
              "\n",
              "  <script>\n",
              "    async function quickchart(key) {\n",
              "      const quickchartButtonEl =\n",
              "        document.querySelector('#' + key + ' button');\n",
              "      quickchartButtonEl.disabled = true;  // To prevent multiple clicks.\n",
              "      quickchartButtonEl.classList.add('colab-df-spinner');\n",
              "      try {\n",
              "        const charts = await google.colab.kernel.invokeFunction(\n",
              "            'suggestCharts', [key], {});\n",
              "      } catch (error) {\n",
              "        console.error('Error during call to suggestCharts:', error);\n",
              "      }\n",
              "      quickchartButtonEl.classList.remove('colab-df-spinner');\n",
              "      quickchartButtonEl.classList.add('colab-df-quickchart-complete');\n",
              "    }\n",
              "    (() => {\n",
              "      let quickchartButtonEl =\n",
              "        document.querySelector('#df-add5d464-4d3d-400f-995a-c3309c334144 button');\n",
              "      quickchartButtonEl.style.display =\n",
              "        google.colab.kernel.accessAllowed ? 'block' : 'none';\n",
              "    })();\n",
              "  </script>\n",
              "</div>\n",
              "\n",
              "  <div id=\"id_59665c23-5e43-4ab3-9bcd-8777df899828\">\n",
              "    <style>\n",
              "      .colab-df-generate {\n",
              "        background-color: #E8F0FE;\n",
              "        border: none;\n",
              "        border-radius: 50%;\n",
              "        cursor: pointer;\n",
              "        display: none;\n",
              "        fill: #1967D2;\n",
              "        height: 32px;\n",
              "        padding: 0 0 0 0;\n",
              "        width: 32px;\n",
              "      }\n",
              "\n",
              "      .colab-df-generate:hover {\n",
              "        background-color: #E2EBFA;\n",
              "        box-shadow: 0px 1px 2px rgba(60, 64, 67, 0.3), 0px 1px 3px 1px rgba(60, 64, 67, 0.15);\n",
              "        fill: #174EA6;\n",
              "      }\n",
              "\n",
              "      [theme=dark] .colab-df-generate {\n",
              "        background-color: #3B4455;\n",
              "        fill: #D2E3FC;\n",
              "      }\n",
              "\n",
              "      [theme=dark] .colab-df-generate:hover {\n",
              "        background-color: #434B5C;\n",
              "        box-shadow: 0px 1px 3px 1px rgba(0, 0, 0, 0.15);\n",
              "        filter: drop-shadow(0px 1px 2px rgba(0, 0, 0, 0.3));\n",
              "        fill: #FFFFFF;\n",
              "      }\n",
              "    </style>\n",
              "    <button class=\"colab-df-generate\" onclick=\"generateWithVariable('df')\"\n",
              "            title=\"Generate code using this dataframe.\"\n",
              "            style=\"display:none;\">\n",
              "\n",
              "  <svg xmlns=\"http://www.w3.org/2000/svg\" height=\"24px\"viewBox=\"0 0 24 24\"\n",
              "       width=\"24px\">\n",
              "    <path d=\"M7,19H8.4L18.45,9,17,7.55,7,17.6ZM5,21V16.75L18.45,3.32a2,2,0,0,1,2.83,0l1.4,1.43a1.91,1.91,0,0,1,.58,1.4,1.91,1.91,0,0,1-.58,1.4L9.25,21ZM18.45,9,17,7.55Zm-12,3A5.31,5.31,0,0,0,4.9,8.1,5.31,5.31,0,0,0,1,6.5,5.31,5.31,0,0,0,4.9,4.9,5.31,5.31,0,0,0,6.5,1,5.31,5.31,0,0,0,8.1,4.9,5.31,5.31,0,0,0,12,6.5,5.46,5.46,0,0,0,6.5,12Z\"/>\n",
              "  </svg>\n",
              "    </button>\n",
              "    <script>\n",
              "      (() => {\n",
              "      const buttonEl =\n",
              "        document.querySelector('#id_59665c23-5e43-4ab3-9bcd-8777df899828 button.colab-df-generate');\n",
              "      buttonEl.style.display =\n",
              "        google.colab.kernel.accessAllowed ? 'block' : 'none';\n",
              "\n",
              "      buttonEl.onclick = () => {\n",
              "        google.colab.notebook.generateWithVariable('df');\n",
              "      }\n",
              "      })();\n",
              "    </script>\n",
              "  </div>\n",
              "\n",
              "    </div>\n",
              "  </div>\n"
            ],
            "application/vnd.google.colaboratory.intrinsic+json": {
              "type": "dataframe",
              "variable_name": "df",
              "summary": "{\n  \"name\": \"df\",\n  \"rows\": 6,\n  \"fields\": [\n    {\n      \"column\": \"Name\",\n      \"properties\": {\n        \"dtype\": \"string\",\n        \"num_unique_values\": 6,\n        \"samples\": [\n          \"Alice\",\n          \"Bob\",\n          \"Frank\"\n        ],\n        \"semantic_type\": \"\",\n        \"description\": \"\"\n      }\n    },\n    {\n      \"column\": \"Age\",\n      \"properties\": {\n        \"dtype\": \"number\",\n        \"std\": 6,\n        \"min\": 22,\n        \"max\": 40,\n        \"num_unique_values\": 6,\n        \"samples\": [\n          25,\n          30,\n          22\n        ],\n        \"semantic_type\": \"\",\n        \"description\": \"\"\n      }\n    },\n    {\n      \"column\": \"Salary\",\n      \"properties\": {\n        \"dtype\": \"number\",\n        \"std\": 12812,\n        \"min\": 45000,\n        \"max\": 80000,\n        \"num_unique_values\": 6,\n        \"samples\": [\n          50000,\n          60000,\n          45000\n        ],\n        \"semantic_type\": \"\",\n        \"description\": \"\"\n      }\n    },\n    {\n      \"column\": \"Department\",\n      \"properties\": {\n        \"dtype\": \"string\",\n        \"num_unique_values\": 3,\n        \"samples\": [\n          \"HR\",\n          \"Finance\",\n          \"IT\"\n        ],\n        \"semantic_type\": \"\",\n        \"description\": \"\"\n      }\n    }\n  ]\n}"
            }
          },
          "metadata": {},
          "execution_count": 137
        }
      ]
    },
    {
      "cell_type": "code",
      "source": [
        "# First 5 rows\n",
        "print(\" df.head():\\n\", df.head())"
      ],
      "metadata": {
        "colab": {
          "base_uri": "https://localhost:8080/"
        },
        "id": "EbK1AUjJBX2a",
        "outputId": "8a50bc99-9af6-436a-fba9-b335641e43e0"
      },
      "execution_count": 138,
      "outputs": [
        {
          "output_type": "stream",
          "name": "stdout",
          "text": [
            " df.head():\n",
            "       Name  Age  Salary Department\n",
            "0    Alice   25   50000         HR\n",
            "1      Bob   30   60000    Finance\n",
            "2  Charlie   35   70000         IT\n",
            "3    David   40   80000         HR\n",
            "4      Eva   28   62000         IT\n"
          ]
        }
      ]
    },
    {
      "cell_type": "code",
      "source": [
        "# Last 5 rows\n",
        "print(\"\\n df.tail():\\n\", df.tail())"
      ],
      "metadata": {
        "colab": {
          "base_uri": "https://localhost:8080/"
        },
        "id": "M2NWiuasCvhy",
        "outputId": "1940cc8d-fc9e-4c8f-f06a-fee6d327243e"
      },
      "execution_count": 139,
      "outputs": [
        {
          "output_type": "stream",
          "name": "stdout",
          "text": [
            "\n",
            " df.tail():\n",
            "       Name  Age  Salary Department\n",
            "1      Bob   30   60000    Finance\n",
            "2  Charlie   35   70000         IT\n",
            "3    David   40   80000         HR\n",
            "4      Eva   28   62000         IT\n",
            "5    Frank   22   45000    Finance\n"
          ]
        }
      ]
    },
    {
      "cell_type": "code",
      "source": [
        "#  First 3 rows\n",
        "print(\"\\n df.head(3):\\n\", df.head(3))"
      ],
      "metadata": {
        "colab": {
          "base_uri": "https://localhost:8080/"
        },
        "id": "Dbp12IYNC2Qo",
        "outputId": "c734751b-15fb-4ac6-acf6-3a71c66b3f37"
      },
      "execution_count": 140,
      "outputs": [
        {
          "output_type": "stream",
          "name": "stdout",
          "text": [
            "\n",
            " df.head(3):\n",
            "       Name  Age  Salary Department\n",
            "0    Alice   25   50000         HR\n",
            "1      Bob   30   60000    Finance\n",
            "2  Charlie   35   70000         IT\n"
          ]
        }
      ]
    },
    {
      "cell_type": "code",
      "source": [
        "#  Last 2 rows\n",
        "print(\"\\n df.tail(2):\\n\", df.tail(2))"
      ],
      "metadata": {
        "colab": {
          "base_uri": "https://localhost:8080/"
        },
        "id": "UU51NesxC4J6",
        "outputId": "79dbe3ea-5cd2-4f2b-a6cb-74a1de548531"
      },
      "execution_count": 141,
      "outputs": [
        {
          "output_type": "stream",
          "name": "stdout",
          "text": [
            "\n",
            " df.tail(2):\n",
            "     Name  Age  Salary Department\n",
            "4    Eva   28   62000         IT\n",
            "5  Frank   22   45000    Finance\n"
          ]
        }
      ]
    },
    {
      "cell_type": "code",
      "source": [
        "# Shape of the DataFrame (rows, columns)\n",
        "print(\" df.shape:\", df.shape)"
      ],
      "metadata": {
        "colab": {
          "base_uri": "https://localhost:8080/"
        },
        "id": "eMz_fOfmC62G",
        "outputId": "7ea5ff7b-ddd0-4546-bbca-2c2bc5298ca5"
      },
      "execution_count": 142,
      "outputs": [
        {
          "output_type": "stream",
          "name": "stdout",
          "text": [
            " df.shape: (6, 4)\n"
          ]
        }
      ]
    },
    {
      "cell_type": "code",
      "source": [
        "# Column names\n",
        "print(\" df.columns:\", df.columns.tolist())"
      ],
      "metadata": {
        "colab": {
          "base_uri": "https://localhost:8080/"
        },
        "id": "o17mFFmODFsm",
        "outputId": "d8c72037-1eed-444c-829a-00c3136b80dd"
      },
      "execution_count": 143,
      "outputs": [
        {
          "output_type": "stream",
          "name": "stdout",
          "text": [
            " df.columns: ['Name', 'Age', 'Salary', 'Department']\n"
          ]
        }
      ]
    },
    {
      "cell_type": "code",
      "source": [
        "# Row index labels\n",
        "print(\" df.index:\", df.index)"
      ],
      "metadata": {
        "colab": {
          "base_uri": "https://localhost:8080/"
        },
        "id": "lUkrxPteDGsf",
        "outputId": "32f770c3-2210-4074-f8b5-8cd1da649e61"
      },
      "execution_count": 144,
      "outputs": [
        {
          "output_type": "stream",
          "name": "stdout",
          "text": [
            " df.index: RangeIndex(start=0, stop=6, step=1)\n"
          ]
        }
      ]
    },
    {
      "cell_type": "code",
      "source": [
        "# Data types of each column\n",
        "print(\" df.dtypes:\\n\", df.dtypes)"
      ],
      "metadata": {
        "colab": {
          "base_uri": "https://localhost:8080/"
        },
        "id": "n3QFh5IvDLyA",
        "outputId": "b741e2b3-f482-460f-c94a-0b87842a6569"
      },
      "execution_count": 145,
      "outputs": [
        {
          "output_type": "stream",
          "name": "stdout",
          "text": [
            " df.dtypes:\n",
            " Name          object\n",
            "Age            int64\n",
            "Salary         int64\n",
            "Department    object\n",
            "dtype: object\n"
          ]
        }
      ]
    },
    {
      "cell_type": "code",
      "source": [
        "# Info summary: types, non-null counts\n",
        "print(\"\\n df.info():\")\n",
        "df.info()"
      ],
      "metadata": {
        "colab": {
          "base_uri": "https://localhost:8080/"
        },
        "id": "g1GL3GAdDTxU",
        "outputId": "dc128531-af88-4f83-f17f-4d808ee95c3b"
      },
      "execution_count": 146,
      "outputs": [
        {
          "output_type": "stream",
          "name": "stdout",
          "text": [
            "\n",
            " df.info():\n",
            "<class 'pandas.core.frame.DataFrame'>\n",
            "RangeIndex: 6 entries, 0 to 5\n",
            "Data columns (total 4 columns):\n",
            " #   Column      Non-Null Count  Dtype \n",
            "---  ------      --------------  ----- \n",
            " 0   Name        6 non-null      object\n",
            " 1   Age         6 non-null      int64 \n",
            " 2   Salary      6 non-null      int64 \n",
            " 3   Department  6 non-null      object\n",
            "dtypes: int64(2), object(2)\n",
            "memory usage: 324.0+ bytes\n"
          ]
        }
      ]
    },
    {
      "cell_type": "code",
      "source": [
        "# Descriptive statistics (numeric columns)\n",
        "print(\" df.describe():\\n\", df.describe())"
      ],
      "metadata": {
        "colab": {
          "base_uri": "https://localhost:8080/"
        },
        "id": "fo_PXCx4DXSe",
        "outputId": "102c50c7-37ad-454f-a9b5-5c35f6ffd811"
      },
      "execution_count": 147,
      "outputs": [
        {
          "output_type": "stream",
          "name": "stdout",
          "text": [
            " df.describe():\n",
            "             Age        Salary\n",
            "count   6.00000      6.000000\n",
            "mean   30.00000  61166.666667\n",
            "std     6.60303  12812.754063\n",
            "min    22.00000  45000.000000\n",
            "25%    25.75000  52500.000000\n",
            "50%    29.00000  61000.000000\n",
            "75%    33.75000  68000.000000\n",
            "max    40.00000  80000.000000\n"
          ]
        }
      ]
    },
    {
      "cell_type": "code",
      "source": [
        "# Descriptive statistics (numeric columns)\n",
        "print(\" df.describe():\\n\", df.describe())"
      ],
      "metadata": {
        "colab": {
          "base_uri": "https://localhost:8080/"
        },
        "id": "B7J0ZO-nDcTG",
        "outputId": "30fc4d0c-6985-43d3-8b97-eee7ca5ba772"
      },
      "execution_count": 148,
      "outputs": [
        {
          "output_type": "stream",
          "name": "stdout",
          "text": [
            " df.describe():\n",
            "             Age        Salary\n",
            "count   6.00000      6.000000\n",
            "mean   30.00000  61166.666667\n",
            "std     6.60303  12812.754063\n",
            "min    22.00000  45000.000000\n",
            "25%    25.75000  52500.000000\n",
            "50%    29.00000  61000.000000\n",
            "75%    33.75000  68000.000000\n",
            "max    40.00000  80000.000000\n"
          ]
        }
      ]
    },
    {
      "cell_type": "code",
      "source": [
        "# Data as NumPy array\n",
        "print(\"df.values:\\n\", df.values)"
      ],
      "metadata": {
        "colab": {
          "base_uri": "https://localhost:8080/"
        },
        "id": "4O47ruYIDfmk",
        "outputId": "c48e0b01-9d64-428c-c197-629b7286f0c0"
      },
      "execution_count": 149,
      "outputs": [
        {
          "output_type": "stream",
          "name": "stdout",
          "text": [
            "df.values:\n",
            " [['Alice' 25 50000 'HR']\n",
            " ['Bob' 30 60000 'Finance']\n",
            " ['Charlie' 35 70000 'IT']\n",
            " ['David' 40 80000 'HR']\n",
            " ['Eva' 28 62000 'IT']\n",
            " ['Frank' 22 45000 'Finance']]\n"
          ]
        }
      ]
    },
    {
      "cell_type": "code",
      "source": [
        "# Random sampling of 2 rows\n",
        "print(\" df.sample(2):\\n\", df.sample(2))"
      ],
      "metadata": {
        "colab": {
          "base_uri": "https://localhost:8080/"
        },
        "id": "hmpGJoU6DlPo",
        "outputId": "1481e25f-994f-46f0-ce3c-74e6f8b6fb4f"
      },
      "execution_count": 150,
      "outputs": [
        {
          "output_type": "stream",
          "name": "stdout",
          "text": [
            " df.sample(2):\n",
            "       Name  Age  Salary Department\n",
            "4      Eva   28   62000         IT\n",
            "2  Charlie   35   70000         IT\n"
          ]
        }
      ]
    },
    {
      "cell_type": "code",
      "source": [
        "# DataFrame as plain text string\n",
        "print(\" df.to_string():\\n\", df.to_string())"
      ],
      "metadata": {
        "colab": {
          "base_uri": "https://localhost:8080/"
        },
        "id": "yGZmHW01DqlZ",
        "outputId": "3b066c98-5d11-4b48-c46b-f1292e264e52"
      },
      "execution_count": 151,
      "outputs": [
        {
          "output_type": "stream",
          "name": "stdout",
          "text": [
            " df.to_string():\n",
            "       Name  Age  Salary Department\n",
            "0    Alice   25   50000         HR\n",
            "1      Bob   30   60000    Finance\n",
            "2  Charlie   35   70000         IT\n",
            "3    David   40   80000         HR\n",
            "4      Eva   28   62000         IT\n",
            "5    Frank   22   45000    Finance\n"
          ]
        }
      ]
    },
    {
      "cell_type": "code",
      "source": [
        "df = pd.DataFrame({\n",
        "    'Name': ['Alice', 'Bob', 'Charlie', 'David'],\n",
        "    'Age': [25, 30, 35, 40],\n",
        "    'Department': ['HR', 'Finance', 'IT', 'HR'],\n",
        "    'Salary': [50000, 60000, 70000, 80000]\n",
        "})\n",
        "print(\"Original DataFrame:\")\n",
        "print(df)"
      ],
      "metadata": {
        "colab": {
          "base_uri": "https://localhost:8080/"
        },
        "id": "IWj8hmSfDsmH",
        "outputId": "2abc7839-3e78-4f99-b642-b8d52b273b64"
      },
      "execution_count": 152,
      "outputs": [
        {
          "output_type": "stream",
          "name": "stdout",
          "text": [
            "Original DataFrame:\n",
            "      Name  Age Department  Salary\n",
            "0    Alice   25         HR   50000\n",
            "1      Bob   30    Finance   60000\n",
            "2  Charlie   35         IT   70000\n",
            "3    David   40         HR   80000\n"
          ]
        }
      ]
    },
    {
      "cell_type": "code",
      "source": [
        "# Drop a column (e.g. 'Department')\n",
        "df_dropped_col = df.drop('Department', axis=1)\n",
        "print(\"After dropping 'Department' column:\\n\", df_dropped_col)"
      ],
      "metadata": {
        "colab": {
          "base_uri": "https://localhost:8080/"
        },
        "id": "lw_ct4-JD-bm",
        "outputId": "62527ebe-90cf-42bd-f6a0-750e76fe06c0"
      },
      "execution_count": 153,
      "outputs": [
        {
          "output_type": "stream",
          "name": "stdout",
          "text": [
            "After dropping 'Department' column:\n",
            "       Name  Age  Salary\n",
            "0    Alice   25   50000\n",
            "1      Bob   30   60000\n",
            "2  Charlie   35   70000\n",
            "3    David   40   80000\n"
          ]
        }
      ]
    },
    {
      "cell_type": "code",
      "source": [
        "# Drop multiple columns\n",
        "df_dropped_cols = df.drop(['Age', 'Salary'], axis=1)\n",
        "print(\"After dropping 'Age' and 'Salary' columns:\\n\", df_dropped_cols)"
      ],
      "metadata": {
        "colab": {
          "base_uri": "https://localhost:8080/"
        },
        "id": "spZWhX3WEEJK",
        "outputId": "bd3612bb-e71e-4df5-abfd-a45fba331e66"
      },
      "execution_count": 154,
      "outputs": [
        {
          "output_type": "stream",
          "name": "stdout",
          "text": [
            "After dropping 'Age' and 'Salary' columns:\n",
            "       Name Department\n",
            "0    Alice         HR\n",
            "1      Bob    Finance\n",
            "2  Charlie         IT\n",
            "3    David         HR\n"
          ]
        }
      ]
    },
    {
      "cell_type": "code",
      "source": [
        "# Drop a row by index label\n",
        "df_dropped_row = df.drop(2)  # Drops the row with index 2 (Charlie)\n",
        "print(\"After dropping row at index 2:\\n\", df_dropped_row)"
      ],
      "metadata": {
        "colab": {
          "base_uri": "https://localhost:8080/"
        },
        "id": "_ueNaiZ_EKE5",
        "outputId": "a454898a-74ad-4767-8f83-0abb2ea462f0"
      },
      "execution_count": 155,
      "outputs": [
        {
          "output_type": "stream",
          "name": "stdout",
          "text": [
            "After dropping row at index 2:\n",
            "     Name  Age Department  Salary\n",
            "0  Alice   25         HR   50000\n",
            "1    Bob   30    Finance   60000\n",
            "3  David   40         HR   80000\n"
          ]
        }
      ]
    },
    {
      "cell_type": "code",
      "source": [
        "# Drop and modify in-place\n",
        "df_copy = df.copy()\n",
        "df_copy.drop('Salary', axis=1, inplace=True)\n",
        "print(\"Modified in-place (Salary column removed):\\n\", df_copy)"
      ],
      "metadata": {
        "colab": {
          "base_uri": "https://localhost:8080/"
        },
        "id": "F2HXdiAkEUHn",
        "outputId": "e99a0cbe-b2b6-4b9a-d43f-67b6337fb163"
      },
      "execution_count": 156,
      "outputs": [
        {
          "output_type": "stream",
          "name": "stdout",
          "text": [
            "Modified in-place (Salary column removed):\n",
            "       Name  Age Department\n",
            "0    Alice   25         HR\n",
            "1      Bob   30    Finance\n",
            "2  Charlie   35         IT\n",
            "3    David   40         HR\n"
          ]
        }
      ]
    },
    {
      "cell_type": "code",
      "source": [
        "# Handle missing labels safely\n",
        "df_safe = df.drop(['NonExistent'], axis=1, errors='ignore')\n",
        "print(\"Dropping non-existent column safely:\\n\", df_safe)"
      ],
      "metadata": {
        "colab": {
          "base_uri": "https://localhost:8080/"
        },
        "id": "t55lFhoPEb1L",
        "outputId": "34d31617-ce4c-4e6d-c072-0da71bfe8a4b"
      },
      "execution_count": 157,
      "outputs": [
        {
          "output_type": "stream",
          "name": "stdout",
          "text": [
            "Dropping non-existent column safely:\n",
            "       Name  Age Department  Salary\n",
            "0    Alice   25         HR   50000\n",
            "1      Bob   30    Finance   60000\n",
            "2  Charlie   35         IT   70000\n",
            "3    David   40         HR   80000\n"
          ]
        }
      ]
    },
    {
      "cell_type": "code",
      "source": [
        "# Chaining with other methods\n",
        "filtered = df.drop('Salary', axis=1).head(2)\n",
        "print(\"Drop then show head:\\n\", filtered)"
      ],
      "metadata": {
        "colab": {
          "base_uri": "https://localhost:8080/"
        },
        "id": "VDZOzWJlEkgZ",
        "outputId": "e5322049-62b4-4376-c1bf-eff25e9cfb43"
      },
      "execution_count": 158,
      "outputs": [
        {
          "output_type": "stream",
          "name": "stdout",
          "text": [
            "Drop then show head:\n",
            "     Name  Age Department\n",
            "0  Alice   25         HR\n",
            "1    Bob   30    Finance\n"
          ]
        }
      ]
    },
    {
      "cell_type": "code",
      "source": [
        "df = pd.DataFrame({\n",
        "    'Name': ['Alice', 'Bob', 'Charlie', 'David'],\n",
        "    'Age': [25, 30, 30, 40],\n",
        "    'Salary': [50000, 60000, 60000, 80000]\n",
        "})\n",
        "\n",
        "print(\"Original DataFrame:\")\n",
        "print(df)"
      ],
      "metadata": {
        "id": "Fb5MnbzOEnqS",
        "colab": {
          "base_uri": "https://localhost:8080/"
        },
        "outputId": "de6fe5f5-5289-4ea3-ede6-36c00e63e7fb"
      },
      "execution_count": 159,
      "outputs": [
        {
          "output_type": "stream",
          "name": "stdout",
          "text": [
            "Original DataFrame:\n",
            "      Name  Age  Salary\n",
            "0    Alice   25   50000\n",
            "1      Bob   30   60000\n",
            "2  Charlie   30   60000\n",
            "3    David   40   80000\n"
          ]
        }
      ]
    },
    {
      "cell_type": "code",
      "source": [
        "# Sort by Salary (ascending)\n",
        "sorted_by_salary = df.sort_values('Salary')\n",
        "print(\" Sorted by Salary:\\n\", sorted_by_salary)"
      ],
      "metadata": {
        "colab": {
          "base_uri": "https://localhost:8080/"
        },
        "id": "wPpYVQKpHWgh",
        "outputId": "9c64f7b6-73ff-4531-9f1e-7f44798659d3"
      },
      "execution_count": 160,
      "outputs": [
        {
          "output_type": "stream",
          "name": "stdout",
          "text": [
            " Sorted by Salary:\n",
            "       Name  Age  Salary\n",
            "0    Alice   25   50000\n",
            "1      Bob   30   60000\n",
            "2  Charlie   30   60000\n",
            "3    David   40   80000\n"
          ]
        }
      ]
    },
    {
      "cell_type": "code",
      "source": [
        "# Sort by Age descending\n",
        "sorted_by_age_desc = df.sort_values('Age', ascending=False)\n",
        "print(\"\\n Sorted by Age (descending):\\n\", sorted_by_age_desc)"
      ],
      "metadata": {
        "colab": {
          "base_uri": "https://localhost:8080/"
        },
        "id": "vobR6Z_wHolT",
        "outputId": "2ee54eed-ddae-4727-b55c-32c31538f247"
      },
      "execution_count": 161,
      "outputs": [
        {
          "output_type": "stream",
          "name": "stdout",
          "text": [
            "\n",
            " Sorted by Age (descending):\n",
            "       Name  Age  Salary\n",
            "3    David   40   80000\n",
            "1      Bob   30   60000\n",
            "2  Charlie   30   60000\n",
            "0    Alice   25   50000\n"
          ]
        }
      ]
    },
    {
      "cell_type": "code",
      "source": [
        "# Sort by multiple columns\n",
        "multi_sort = df.sort_values(['Age', 'Salary'], ascending=[True, False])\n",
        "print(\"\\nSorted by Age (asc) and Salary (desc):\\n\", multi_sort)\n"
      ],
      "metadata": {
        "colab": {
          "base_uri": "https://localhost:8080/"
        },
        "id": "3QJlIUOAHtQt",
        "outputId": "9d33d549-7c28-428c-f92f-540357ffebed"
      },
      "execution_count": 162,
      "outputs": [
        {
          "output_type": "stream",
          "name": "stdout",
          "text": [
            "\n",
            "Sorted by Age (asc) and Salary (desc):\n",
            "       Name  Age  Salary\n",
            "0    Alice   25   50000\n",
            "1      Bob   30   60000\n",
            "2  Charlie   30   60000\n",
            "3    David   40   80000\n"
          ]
        }
      ]
    },
    {
      "cell_type": "code",
      "source": [
        "# Shuffle index then sort\n",
        "df_shuffled = df.sample(frac=1)\n",
        "print(\"Shuffled DataFrame:\\n\", df_shuffled)\n",
        "\n",
        "sorted_by_index = df_shuffled.sort_index()\n",
        "print(\"\\n Sorted by index:\\n\", sorted_by_index)"
      ],
      "metadata": {
        "colab": {
          "base_uri": "https://localhost:8080/"
        },
        "id": "d-YDlmh5Hvgr",
        "outputId": "31b72bfb-ced2-40bb-846a-b48f740fe493"
      },
      "execution_count": 163,
      "outputs": [
        {
          "output_type": "stream",
          "name": "stdout",
          "text": [
            "Shuffled DataFrame:\n",
            "       Name  Age  Salary\n",
            "0    Alice   25   50000\n",
            "1      Bob   30   60000\n",
            "3    David   40   80000\n",
            "2  Charlie   30   60000\n",
            "\n",
            " Sorted by index:\n",
            "       Name  Age  Salary\n",
            "0    Alice   25   50000\n",
            "1      Bob   30   60000\n",
            "2  Charlie   30   60000\n",
            "3    David   40   80000\n"
          ]
        }
      ]
    },
    {
      "cell_type": "code",
      "source": [
        "# Rank by Salary\n",
        "df['Salary_Rank'] = df['Salary'].rank()\n",
        "print(\" Salary Rank (average for ties):\\n\", df)"
      ],
      "metadata": {
        "colab": {
          "base_uri": "https://localhost:8080/"
        },
        "id": "U65N9ZNOH3_y",
        "outputId": "e57cd52e-2581-4db1-dbd3-8b718c61ea6a"
      },
      "execution_count": 164,
      "outputs": [
        {
          "output_type": "stream",
          "name": "stdout",
          "text": [
            " Salary Rank (average for ties):\n",
            "       Name  Age  Salary  Salary_Rank\n",
            "0    Alice   25   50000          1.0\n",
            "1      Bob   30   60000          2.5\n",
            "2  Charlie   30   60000          2.5\n",
            "3    David   40   80000          4.0\n"
          ]
        }
      ]
    },
    {
      "cell_type": "code",
      "source": [
        "# Sort columns alphabetically\n",
        "sorted_columns = df.sort_index(axis=1)\n",
        "print(\"Columns sorted alphabetically:\\n\", sorted_columns)"
      ],
      "metadata": {
        "colab": {
          "base_uri": "https://localhost:8080/"
        },
        "id": "3gLuJ_MDL4gZ",
        "outputId": "123e240e-553d-41f4-c371-c4ccd6c25727"
      },
      "execution_count": 165,
      "outputs": [
        {
          "output_type": "stream",
          "name": "stdout",
          "text": [
            "Columns sorted alphabetically:\n",
            "    Age     Name  Salary  Salary_Rank\n",
            "0   25    Alice   50000          1.0\n",
            "1   30      Bob   60000          2.5\n",
            "2   30  Charlie   60000          2.5\n",
            "3   40    David   80000          4.0\n"
          ]
        }
      ]
    },
    {
      "cell_type": "code",
      "source": [
        "df = pd.DataFrame({\n",
        "    'Name': ['Alice', 'Bob', 'Charlie', 'David', 'Eva'],\n",
        "    'Age': [25, 30, 35, 40, None],\n",
        "    'Salary': [50000, 60000, 70000, None, 62000],\n",
        "    'Department': ['HR', 'Finance', 'IT', 'HR', 'IT']\n",
        "})\n",
        "\n",
        "print(\"Sample DataFrame:\")\n",
        "print(df)"
      ],
      "metadata": {
        "colab": {
          "base_uri": "https://localhost:8080/"
        },
        "id": "SZ0G7WUwMBEa",
        "outputId": "638c5949-4777-4978-9626-b70ac62c0622"
      },
      "execution_count": 166,
      "outputs": [
        {
          "output_type": "stream",
          "name": "stdout",
          "text": [
            "Sample DataFrame:\n",
            "      Name   Age   Salary Department\n",
            "0    Alice  25.0  50000.0         HR\n",
            "1      Bob  30.0  60000.0    Finance\n",
            "2  Charlie  35.0  70000.0         IT\n",
            "3    David  40.0      NaN         HR\n",
            "4      Eva   NaN  62000.0         IT\n"
          ]
        }
      ]
    },
    {
      "cell_type": "code",
      "source": [
        "## .shape — Dimensions\n",
        "# Returns a tuple with number of rows and columns\n",
        "\n",
        "print(\"Shape (rows, columns):\", df.shape)"
      ],
      "metadata": {
        "colab": {
          "base_uri": "https://localhost:8080/"
        },
        "id": "8kiidx7hM6rc",
        "outputId": "146a4ba0-e50d-4593-a9ff-dac4e8f10f76"
      },
      "execution_count": 167,
      "outputs": [
        {
          "output_type": "stream",
          "name": "stdout",
          "text": [
            "Shape (rows, columns): (5, 4)\n"
          ]
        }
      ]
    },
    {
      "cell_type": "code",
      "source": [
        "## .columns — Column labels\n",
        "print(\" Column Names:\", df.columns.tolist())"
      ],
      "metadata": {
        "colab": {
          "base_uri": "https://localhost:8080/"
        },
        "id": "-n4JoYEENahd",
        "outputId": "33e8f914-0675-4cd3-b499-f152976c8bdd"
      },
      "execution_count": 168,
      "outputs": [
        {
          "output_type": "stream",
          "name": "stdout",
          "text": [
            " Column Names: ['Name', 'Age', 'Salary', 'Department']\n"
          ]
        }
      ]
    },
    {
      "cell_type": "code",
      "source": [
        "##  .index — Row labels\n",
        "print(\"Index Labels:\", df.index)\n"
      ],
      "metadata": {
        "colab": {
          "base_uri": "https://localhost:8080/"
        },
        "id": "6YlRtaQJNlNu",
        "outputId": "991d34ba-f071-4da7-9891-635cfffb16de"
      },
      "execution_count": 169,
      "outputs": [
        {
          "output_type": "stream",
          "name": "stdout",
          "text": [
            "Index Labels: RangeIndex(start=0, stop=5, step=1)\n"
          ]
        }
      ]
    },
    {
      "cell_type": "code",
      "source": [
        "## .dtypes — Data types of each column\n",
        "\n",
        "print(\"Data Types:\\n\", df.dtypes)"
      ],
      "metadata": {
        "colab": {
          "base_uri": "https://localhost:8080/"
        },
        "id": "kTvhnJTkNqUB",
        "outputId": "70c9a832-4ad7-41ab-e5ae-bc85042673d8"
      },
      "execution_count": 170,
      "outputs": [
        {
          "output_type": "stream",
          "name": "stdout",
          "text": [
            "Data Types:\n",
            " Name           object\n",
            "Age           float64\n",
            "Salary        float64\n",
            "Department     object\n",
            "dtype: object\n"
          ]
        }
      ]
    },
    {
      "cell_type": "code",
      "source": [
        "## .info() — Structure and memory usage\n",
        "\n",
        "print(\"DataFrame Info:\")\n",
        "df.info()"
      ],
      "metadata": {
        "colab": {
          "base_uri": "https://localhost:8080/"
        },
        "id": "qKFU24bpNxCv",
        "outputId": "9c83dce7-b48b-49b3-d28f-8bae217cdc54"
      },
      "execution_count": 171,
      "outputs": [
        {
          "output_type": "stream",
          "name": "stdout",
          "text": [
            "DataFrame Info:\n",
            "<class 'pandas.core.frame.DataFrame'>\n",
            "RangeIndex: 5 entries, 0 to 4\n",
            "Data columns (total 4 columns):\n",
            " #   Column      Non-Null Count  Dtype  \n",
            "---  ------      --------------  -----  \n",
            " 0   Name        5 non-null      object \n",
            " 1   Age         4 non-null      float64\n",
            " 2   Salary      4 non-null      float64\n",
            " 3   Department  5 non-null      object \n",
            "dtypes: float64(2), object(2)\n",
            "memory usage: 292.0+ bytes\n"
          ]
        }
      ]
    },
    {
      "cell_type": "code",
      "source": [
        "## .count() — Count of non-NA values\n",
        "\n",
        "print(\"Non-null counts:\\n\", df.count())"
      ],
      "metadata": {
        "colab": {
          "base_uri": "https://localhost:8080/"
        },
        "id": "QbjW4j-kN2hy",
        "outputId": "f4038d2d-08d0-45e8-e73c-18a768efbb1b"
      },
      "execution_count": 172,
      "outputs": [
        {
          "output_type": "stream",
          "name": "stdout",
          "text": [
            "Non-null counts:\n",
            " Name          5\n",
            "Age           4\n",
            "Salary        4\n",
            "Department    5\n",
            "dtype: int64\n"
          ]
        }
      ]
    },
    {
      "cell_type": "code",
      "source": [
        "df = pd.DataFrame({\n",
        "    'Age': [25, 30, 35, 40, 28],\n",
        "    'Salary': [50000, 60000, 70000, 80000, 62000],\n",
        "    'Department': ['HR', 'Finance', 'IT', 'HR', 'IT']\n",
        "})\n",
        "\n",
        "print(\"Sample DataFrame:\")\n",
        "print(df)\n"
      ],
      "metadata": {
        "colab": {
          "base_uri": "https://localhost:8080/"
        },
        "id": "fTV5-xGhN8Pk",
        "outputId": "ee69e790-4ef5-46e0-ffd0-9e9ab92ff0e4"
      },
      "execution_count": 173,
      "outputs": [
        {
          "output_type": "stream",
          "name": "stdout",
          "text": [
            "Sample DataFrame:\n",
            "   Age  Salary Department\n",
            "0   25   50000         HR\n",
            "1   30   60000    Finance\n",
            "2   35   70000         IT\n",
            "3   40   80000         HR\n",
            "4   28   62000         IT\n"
          ]
        }
      ]
    },
    {
      "cell_type": "code",
      "source": [
        "## Basic Aggregates: .sum(), .mean(), .std()\n",
        "\n",
        "print(\"Total Age:\", df['Age'].sum())\n",
        "print(\"Average Salary:\", df['Salary'].mean())\n",
        "print(\"Salary Std Dev:\", df['Salary'].std())"
      ],
      "metadata": {
        "colab": {
          "base_uri": "https://localhost:8080/"
        },
        "id": "2FiKa7UTOqxX",
        "outputId": "b2a45c66-4228-4a53-bbf1-d35dee2c2fbe"
      },
      "execution_count": 174,
      "outputs": [
        {
          "output_type": "stream",
          "name": "stdout",
          "text": [
            "Total Age: 158\n",
            "Average Salary: 64400.0\n",
            "Salary Std Dev: 11260.550608207397\n"
          ]
        }
      ]
    },
    {
      "cell_type": "code",
      "source": [
        "## Range Values: .min(), .max()\n",
        "\n",
        "print(\"Minimum Age:\", df['Age'].min())\n",
        "print(\"Maximum Salary:\", df['Salary'].max())"
      ],
      "metadata": {
        "colab": {
          "base_uri": "https://localhost:8080/"
        },
        "id": "LJ_RhbZ8Owxu",
        "outputId": "1103d2fe-cc58-47e0-e924-fef2dd64fd5e"
      },
      "execution_count": 175,
      "outputs": [
        {
          "output_type": "stream",
          "name": "stdout",
          "text": [
            "Minimum Age: 25\n",
            "Maximum Salary: 80000\n"
          ]
        }
      ]
    },
    {
      "cell_type": "code",
      "source": [
        "## Index of Min/Max: .idxmin(), .idxmax()\n",
        "\n",
        "print(\"Index of Minimum Age:\", df['Age'].idxmin())\n",
        "print(\"Index of Maximum Salary:\", df['Salary'].idxmax())"
      ],
      "metadata": {
        "colab": {
          "base_uri": "https://localhost:8080/"
        },
        "id": "JkcPImQ7O5EU",
        "outputId": "d87246ee-f06d-472e-daf0-9ebd3fdb6d14"
      },
      "execution_count": 176,
      "outputs": [
        {
          "output_type": "stream",
          "name": "stdout",
          "text": [
            "Index of Minimum Age: 0\n",
            "Index of Maximum Salary: 3\n"
          ]
        }
      ]
    },
    {
      "cell_type": "code",
      "source": [
        "## Summary of All Numeric Columns: .describe()\n",
        "\n",
        "print(\"Summary Stats:\\n\", df.describe())"
      ],
      "metadata": {
        "colab": {
          "base_uri": "https://localhost:8080/"
        },
        "id": "VpO_7JCIO9nE",
        "outputId": "67e5f506-2164-4a40-febb-fdff89661c72"
      },
      "execution_count": 177,
      "outputs": [
        {
          "output_type": "stream",
          "name": "stdout",
          "text": [
            "Summary Stats:\n",
            "             Age        Salary\n",
            "count   5.00000      5.000000\n",
            "mean   31.60000  64400.000000\n",
            "std     5.94138  11260.550608\n",
            "min    25.00000  50000.000000\n",
            "25%    28.00000  60000.000000\n",
            "50%    30.00000  62000.000000\n",
            "75%    35.00000  70000.000000\n",
            "max    40.00000  80000.000000\n"
          ]
        }
      ]
    },
    {
      "cell_type": "code",
      "source": [
        "## Frequency of Categorical Values: .value_counts()\n",
        "\n",
        "print(\"Department Frequency:\\n\", df['Department'].value_counts())"
      ],
      "metadata": {
        "colab": {
          "base_uri": "https://localhost:8080/"
        },
        "id": "ZuC5_moLPHO0",
        "outputId": "c284802e-7f44-4055-8ff9-ab2f5b91d19a"
      },
      "execution_count": 178,
      "outputs": [
        {
          "output_type": "stream",
          "name": "stdout",
          "text": [
            "Department Frequency:\n",
            " Department\n",
            "HR         2\n",
            "IT         2\n",
            "Finance    1\n",
            "Name: count, dtype: int64\n"
          ]
        }
      ]
    },
    {
      "cell_type": "code",
      "source": [
        "## Central Tendency: .median(), .mode()\n",
        "\n",
        "print(\"Median Age:\", df['Age'].median())\n",
        "print(\"Salary Mode:\\n\", df['Salary'].mode())"
      ],
      "metadata": {
        "colab": {
          "base_uri": "https://localhost:8080/"
        },
        "id": "QerHIyoCPTTg",
        "outputId": "38f4ce62-ac14-4b2c-b15b-340604d9e541"
      },
      "execution_count": 179,
      "outputs": [
        {
          "output_type": "stream",
          "name": "stdout",
          "text": [
            "Median Age: 30.0\n",
            "Salary Mode:\n",
            " 0    50000\n",
            "1    60000\n",
            "2    62000\n",
            "3    70000\n",
            "4    80000\n",
            "Name: Salary, dtype: int64\n"
          ]
        }
      ]
    },
    {
      "cell_type": "code",
      "source": [
        "## Using `axis` parameter\n",
        "# - `axis=0` (default) → operate column-wise\n",
        "# - `axis=1` → operate row-wise\n",
        "\n",
        "# Sum for each row\n",
        "print(\"🧾 Row-wise totals:\\n\", df[['Age', 'Salary']].sum(axis=1))\n"
      ],
      "metadata": {
        "colab": {
          "base_uri": "https://localhost:8080/"
        },
        "id": "Ic5Fzk1QPy3-",
        "outputId": "72b8dedc-d1a7-44ce-fbac-b6fb2798e17a"
      },
      "execution_count": 180,
      "outputs": [
        {
          "output_type": "stream",
          "name": "stdout",
          "text": [
            "🧾 Row-wise totals:\n",
            " 0    50025\n",
            "1    60030\n",
            "2    70035\n",
            "3    80040\n",
            "4    62028\n",
            "dtype: int64\n"
          ]
        }
      ]
    },
    {
      "cell_type": "code",
      "source": [
        "df1 = pd.DataFrame({\n",
        "    'A': [1, 2, 3],\n",
        "    'B': [4, 5, 6]\n",
        "}, index=['x', 'y', 'z'])\n",
        "\n",
        "df2 = pd.DataFrame({\n",
        "    'A': [10, 20],\n",
        "    'B': [30, 40]\n",
        "}, index=['y', 'z'])\n",
        "\n",
        "print(\"DataFrame 1:\\n\", df1)\n",
        "print(\"\\nDataFrame 2:\\n\", df2)"
      ],
      "metadata": {
        "colab": {
          "base_uri": "https://localhost:8080/"
        },
        "id": "1ZVO4qRtP98F",
        "outputId": "d10ba028-e647-40b3-dcc2-447262010752"
      },
      "execution_count": 181,
      "outputs": [
        {
          "output_type": "stream",
          "name": "stdout",
          "text": [
            "DataFrame 1:\n",
            "    A  B\n",
            "x  1  4\n",
            "y  2  5\n",
            "z  3  6\n",
            "\n",
            "DataFrame 2:\n",
            "     A   B\n",
            "y  10  30\n",
            "z  20  40\n"
          ]
        }
      ]
    },
    {
      "cell_type": "code",
      "source": [
        "# Add df1 and df2\n",
        "result = df1 + df2\n",
        "print(\"df1 + df2 (auto-aligned):\\n\", result)"
      ],
      "metadata": {
        "colab": {
          "base_uri": "https://localhost:8080/"
        },
        "id": "gcOIj22wgPl3",
        "outputId": "b09d96b0-af9f-409c-d68a-ca981c3c0463"
      },
      "execution_count": 182,
      "outputs": [
        {
          "output_type": "stream",
          "name": "stdout",
          "text": [
            "df1 + df2 (auto-aligned):\n",
            "       A     B\n",
            "x   NaN   NaN\n",
            "y  12.0  35.0\n",
            "z  23.0  46.0\n"
          ]
        }
      ]
    },
    {
      "cell_type": "code",
      "source": [
        "## Using `.add()` with `fill_value` to handle NaNs\n",
        "# You can fill missing values before the operation\n",
        "\n",
        "# Fill missing with 0 during addition\n",
        "result_filled = df1.add(df2, fill_value=0)\n",
        "print(\"df1.add(df2, fill_value=0):\\n\", result_filled)"
      ],
      "metadata": {
        "colab": {
          "base_uri": "https://localhost:8080/"
        },
        "id": "LZhKznc-hSUq",
        "outputId": "593163a3-bf7b-490b-ca8d-9b1117bf424b"
      },
      "execution_count": 183,
      "outputs": [
        {
          "output_type": "stream",
          "name": "stdout",
          "text": [
            "df1.add(df2, fill_value=0):\n",
            "       A     B\n",
            "x   1.0   4.0\n",
            "y  12.0  35.0\n",
            "z  23.0  46.0\n"
          ]
        }
      ]
    },
    {
      "cell_type": "code",
      "source": [
        "## Other element-wise operations:\n",
        "# - `.sub()` → subtraction\n",
        "# - `.mul()` → multiplication\n",
        "# - `.div()` → division\n",
        "# All support `fill_value`\n",
        "\n",
        "# Subtraction with fill_value\n",
        "sub_result = df1.sub(df2, fill_value=0)\n",
        "print(\" df1.sub(df2, fill_value=0):\\n\", sub_result)"
      ],
      "metadata": {
        "colab": {
          "base_uri": "https://localhost:8080/"
        },
        "id": "CuSA59xihbGc",
        "outputId": "08599a2a-a26b-4d26-8578-62d045d29217"
      },
      "execution_count": 185,
      "outputs": [
        {
          "output_type": "stream",
          "name": "stdout",
          "text": [
            " df1.sub(df2, fill_value=0):\n",
            "       A     B\n",
            "x   1.0   4.0\n",
            "y  -8.0 -25.0\n",
            "z -17.0 -34.0\n"
          ]
        }
      ]
    },
    {
      "cell_type": "code",
      "source": [
        "## Arithmetic with Series\n",
        "# Operations between DataFrame and Series are also aligned by index\n",
        "\n",
        "series = pd.Series([100, 200], index=['A', 'B'])\n",
        "added = df1 + series\n",
        "print(\"df1 + Series:\\n\", added)"
      ],
      "metadata": {
        "colab": {
          "base_uri": "https://localhost:8080/"
        },
        "id": "pgY5tdykh3bo",
        "outputId": "47bcc938-c69a-40da-8b55-d5fde1307fa2"
      },
      "execution_count": 187,
      "outputs": [
        {
          "output_type": "stream",
          "name": "stdout",
          "text": [
            "df1 + Series:\n",
            "      A    B\n",
            "x  101  204\n",
            "y  102  205\n",
            "z  103  206\n"
          ]
        }
      ]
    },
    {
      "cell_type": "code",
      "source": [
        "df1 = pd.DataFrame({\n",
        "    'Math': [90, 80, 70],\n",
        "    'English': [85, 75, 65]\n",
        "}, index=['Ali', 'Sara', 'John'])\n",
        "\n",
        "df2 = pd.DataFrame({\n",
        "    'Math': [88, 78],\n",
        "    'Science': [92, 81]\n",
        "}, index=['Sara', 'John'])\n",
        "\n",
        "print(\"df1:\\n\", df1)\n",
        "print(\"\\ndf2:\\n\", df2)"
      ],
      "metadata": {
        "colab": {
          "base_uri": "https://localhost:8080/"
        },
        "id": "TyJwuntwi8WV",
        "outputId": "ba9a229c-486f-4aa9-e3cb-4241ebb94081"
      },
      "execution_count": 188,
      "outputs": [
        {
          "output_type": "stream",
          "name": "stdout",
          "text": [
            "df1:\n",
            "       Math  English\n",
            "Ali     90       85\n",
            "Sara    80       75\n",
            "John    70       65\n",
            "\n",
            "df2:\n",
            "       Math  Science\n",
            "Sara    88       92\n",
            "John    78       81\n"
          ]
        }
      ]
    },
    {
      "cell_type": "code",
      "source": [
        "## df.add(df2, fill_value=0)\n",
        "# Fills missing values with 0 before performing addition\n",
        "# Prevents `NaN` from propagating\n",
        "\n",
        "# Add with fill_value to avoid NaNs\n",
        "result = df1.add(df2, fill_value=0)\n",
        "print(\"✅ df1.add(df2, fill_value=0):\\n\", result)\n"
      ],
      "metadata": {
        "colab": {
          "base_uri": "https://localhost:8080/"
        },
        "id": "dYpYrv6kjGFK",
        "outputId": "482bf03c-07b7-4084-b259-70d0dd632793"
      },
      "execution_count": 190,
      "outputs": [
        {
          "output_type": "stream",
          "name": "stdout",
          "text": [
            "✅ df1.add(df2, fill_value=0):\n",
            "       English   Math  Science\n",
            "Ali      85.0   90.0      NaN\n",
            "John     65.0  148.0     81.0\n",
            "Sara     75.0  168.0     92.0\n"
          ]
        }
      ]
    },
    {
      "cell_type": "code",
      "source": [
        "## Other Methods: .sub(), .mul(), .div()\n",
        "# All support `fill_value` to handle mismatches\n",
        "\n",
        "# Subtraction\n",
        "sub = df1.sub(df2, fill_value=0)\n",
        "print(\"Subtraction:\\n\", sub)\n",
        "\n",
        "# Multiplication\n",
        "mul = df1.mul(df2, fill_value=1)\n",
        "print(\"\\nMultiplication:\\n\", mul)\n",
        "\n",
        "# Division\n",
        "div = df1.div(df2, fill_value=1)\n",
        "print(\"\\nDivision:\\n\", div)\n"
      ],
      "metadata": {
        "colab": {
          "base_uri": "https://localhost:8080/"
        },
        "id": "sX1-uz0njIYY",
        "outputId": "f1d8df9e-6013-4e2f-8eca-eac5dd7d59cd"
      },
      "execution_count": 191,
      "outputs": [
        {
          "output_type": "stream",
          "name": "stdout",
          "text": [
            "Subtraction:\n",
            "       English  Math  Science\n",
            "Ali      85.0  90.0      NaN\n",
            "John     65.0  -8.0    -81.0\n",
            "Sara     75.0  -8.0    -92.0\n",
            "\n",
            "Multiplication:\n",
            "       English    Math  Science\n",
            "Ali      85.0    90.0      NaN\n",
            "John     65.0  5460.0     81.0\n",
            "Sara     75.0  7040.0     92.0\n",
            "\n",
            "Division:\n",
            "       English       Math   Science\n",
            "Ali      85.0  90.000000       NaN\n",
            "John     65.0   0.897436  0.012346\n",
            "Sara     75.0   0.909091  0.010870\n"
          ]
        }
      ]
    },
    {
      "cell_type": "code",
      "source": [
        "## Broadcasting Support\n",
        "# Works like matrix ops – aligns by index and column\n",
        "\n",
        "# Broadcasting a Series across columns\n",
        "bonus = pd.Series({'Math': 5, 'English': 10})\n",
        "df_bonus = df1.add(bonus)\n",
        "print(\"Bonus added:\\n\", df_bonus)\n"
      ],
      "metadata": {
        "colab": {
          "base_uri": "https://localhost:8080/"
        },
        "id": "WpAVBikJjUI4",
        "outputId": "3a01212f-b0f5-46f6-9874-911fad6e36a6"
      },
      "execution_count": 193,
      "outputs": [
        {
          "output_type": "stream",
          "name": "stdout",
          "text": [
            "Bonus added:\n",
            "       Math  English\n",
            "Ali     95       95\n",
            "Sara    85       85\n",
            "John    75       75\n"
          ]
        }
      ]
    },
    {
      "cell_type": "code",
      "source": [],
      "metadata": {
        "id": "M7wLvxvcjY4O"
      },
      "execution_count": null,
      "outputs": []
    }
  ]
}