{
 "cells": [
  {
   "cell_type": "markdown",
   "id": "1c3c22b5",
   "metadata": {},
   "source": [
    "# Importing NumPy"
   ]
  },
  {
   "cell_type": "code",
   "execution_count": 4,
   "id": "e6764c4f",
   "metadata": {},
   "outputs": [],
   "source": [
    "# first to import numpy as np for numpy array operations\n",
    "import numpy as np\n"
   ]
  },
  {
   "cell_type": "markdown",
   "id": "baa63c8a",
   "metadata": {},
   "source": [
    "# Creating Array"
   ]
  },
  {
   "cell_type": "code",
   "execution_count": 6,
   "id": "b689ee97",
   "metadata": {},
   "outputs": [
    {
     "name": "stdout",
     "output_type": "stream",
     "text": [
      "[1 2 3]\n",
      "[[1 2]\n",
      " [3 4]]\n",
      "[[[1]\n",
      "  [2]]\n",
      "\n",
      " [[3]\n",
      "  [4]]]\n"
     ]
    }
   ],
   "source": [
    "# 1D Array\n",
    "a = np.array([1, 2, 3])\n",
    "\n",
    "# 2D Array\n",
    "b = np.array([[1, 2], [3, 4]])\n",
    "\n",
    "# 3D Array\n",
    "c = np.array([[[1], [2]], [[3], [4]]])\n",
    "\n",
    "print(a)\n",
    "print(b)\n",
    "print(c)"
   ]
  },
  {
   "cell_type": "markdown",
   "id": "05fffdea",
   "metadata": {},
   "source": [
    "# Checking Array Properties"
   ]
  },
  {
   "cell_type": "code",
   "execution_count": 7,
   "id": "b59c9b12",
   "metadata": {},
   "outputs": [
    {
     "data": {
      "text/plain": [
       "12"
      ]
     },
     "execution_count": 7,
     "metadata": {},
     "output_type": "execute_result"
    }
   ],
   "source": [
    "a.shape        # Shape of array\n",
    "a.ndim         # Number of dimensions\n",
    "a.dtype        # Data type\n",
    "a.size         # Total number of elements\n",
    "a.itemsize     # Size (in bytes) of each element\n",
    "a.nbytes       # Total bytes used\n"
   ]
  },
  {
   "cell_type": "markdown",
   "id": "50816c4f",
   "metadata": {},
   "source": [
    "# Initial Placeholders "
   ]
  },
  {
   "cell_type": "code",
   "execution_count": 10,
   "id": "bed41432",
   "metadata": {},
   "outputs": [
    {
     "data": {
      "text/plain": [
       "array([[1.39069238e-309, 1.39069238e-309],\n",
       "       [1.39069238e-309, 1.39069238e-309],\n",
       "       [1.39069238e-309, 1.39069238e-309]])"
      ]
     },
     "execution_count": 10,
     "metadata": {},
     "output_type": "execute_result"
    }
   ],
   "source": [
    ">>> np.zeros((3,4)) #Create an array of zeros\n",
    ">>> np.ones((2,3,4),dtype=np.int16) #Create an array of ones\n",
    ">>> d = np.arange(10,25,5)#Create an array of evenly spaced values (step value)\n",
    ">>> np.linspace(0,2,9) #Create an array of evenlyspaced values (number of samples)\n",
    ">>> e = np.full((2,2),7)#Create a constant array\n",
    ">>> f = np.eye(2) #Create a 2X2 identity matrix\n",
    ">>> np.random.random((2,2)) #Create an array with random values\n",
    ">>> np.empty((3,2)) #Create an empty array\n"
   ]
  },
  {
   "cell_type": "markdown",
   "id": "b9a81a4f",
   "metadata": {},
   "source": [
    "# Creating Array With Zeros\n"
   ]
  },
  {
   "cell_type": "code",
   "execution_count": 24,
   "id": "29c47058",
   "metadata": {},
   "outputs": [
    {
     "name": "stdout",
     "output_type": "stream",
     "text": [
      "[[0. 0. 0.]\n",
      " [0. 0. 0.]]\n",
      "\n",
      "[[0. 0. 0. 0. 0. 0. 0. 0. 0.]\n",
      " [0. 0. 0. 0. 0. 0. 0. 0. 0.]\n",
      " [0. 0. 0. 0. 0. 0. 0. 0. 0.]\n",
      " [0. 0. 0. 0. 0. 0. 0. 0. 0.]\n",
      " [0. 0. 0. 0. 0. 0. 0. 0. 0.]\n",
      " [0. 0. 0. 0. 0. 0. 0. 0. 0.]\n",
      " [0. 0. 0. 0. 0. 0. 0. 0. 0.]\n",
      " [0. 0. 0. 0. 0. 0. 0. 0. 0.]]\n"
     ]
    }
   ],
   "source": [
    "a=ar.zeros((2,3))\n",
    "print(a)\n",
    "print()\n",
    "b=ar.zeros((8,9))\n",
    "print(b)"
   ]
  },
  {
   "cell_type": "markdown",
   "id": "df50f4aa",
   "metadata": {},
   "source": [
    "# Creating Array With Ones"
   ]
  },
  {
   "cell_type": "code",
   "execution_count": 25,
   "id": "c7b604fe",
   "metadata": {},
   "outputs": [
    {
     "data": {
      "text/plain": [
       "array([[1, 1, 1, 1],\n",
       "       [1, 1, 1, 1],\n",
       "       [1, 1, 1, 1]])"
      ]
     },
     "execution_count": 25,
     "metadata": {},
     "output_type": "execute_result"
    }
   ],
   "source": [
    "a=ar.ones((3,4),dtype=int)\n",
    "a"
   ]
  },
  {
   "cell_type": "markdown",
   "id": "fcc28223",
   "metadata": {},
   "source": [
    "# Reshape and Resize"
   ]
  },
  {
   "cell_type": "code",
   "execution_count": 11,
   "id": "19774ccf",
   "metadata": {},
   "outputs": [],
   "source": [
    "arr = np.arange(6)       # [0 1 2 3 4 5]\n",
    "arr.reshape(2, 3)        # (2 rows, 3 columns)\n",
    "arr.flatten()            # Flatten to 1D\n",
    "arr.resize((3, 2))       # Resizes in-place\n"
   ]
  },
  {
   "cell_type": "markdown",
   "id": "7e684143",
   "metadata": {},
   "source": [
    "# np.arange()\n",
    "Creates a 1D array with values from 0 to 5."
   ]
  },
  {
   "cell_type": "code",
   "execution_count": 12,
   "id": "a2e666c1",
   "metadata": {},
   "outputs": [
    {
     "name": "stdout",
     "output_type": "stream",
     "text": [
      "Original array: [0 1 2 3 4 5]\n"
     ]
    }
   ],
   "source": [
    "import numpy as np\n",
    "\n",
    "arr = np.arange(6)\n",
    "print(\"Original array:\", arr)\n",
    "# Output: [0 1 2 3 4 5]\n"
   ]
  },
  {
   "cell_type": "markdown",
   "id": "d29c0508",
   "metadata": {},
   "source": [
    "# arr.reshape()\n",
    "Reshapes the array into 2 rows and 3 columns (returns a new reshaped array)."
   ]
  },
  {
   "cell_type": "code",
   "execution_count": 13,
   "id": "28112950",
   "metadata": {},
   "outputs": [
    {
     "name": "stdout",
     "output_type": "stream",
     "text": [
      "Resized in-place to (3, 2):\n",
      " [[0 1]\n",
      " [2 3]\n",
      " [4 5]]\n"
     ]
    }
   ],
   "source": [
    "arr = np.arange(6)\n",
    "arr.resize((3, 2))  # In-place\n",
    "print(\"Resized in-place to (3, 2):\\n\", arr)\n"
   ]
  },
  {
   "cell_type": "markdown",
   "id": "2a6b47dc",
   "metadata": {},
   "source": [
    "# arr.resize((3, 2))\n",
    "Resizes the original array in-place to 3 rows and 2 columns. This modifies arr directly."
   ]
  },
  {
   "cell_type": "code",
   "execution_count": 16,
   "id": "5f6a451b",
   "metadata": {},
   "outputs": [
    {
     "name": "stdout",
     "output_type": "stream",
     "text": [
      "Resized in-place to (3, 2):\n",
      " [[0 1]\n",
      " [2 3]\n",
      " [4 5]]\n"
     ]
    }
   ],
   "source": [
    "arr = np.arange(6)\n",
    "arr.resize((3, 2))  # In-place\n",
    "print(\"Resized in-place to (3, 2):\\n\", arr)\n",
    "\n"
   ]
  },
  {
   "cell_type": "markdown",
   "id": "c9d0b470",
   "metadata": {},
   "source": [
    "# Indexing and Slicing"
   ]
  },
  {
   "cell_type": "code",
   "execution_count": 17,
   "id": "37c54cb7",
   "metadata": {},
   "outputs": [
    {
     "name": "stdout",
     "output_type": "stream",
     "text": [
      "Element at index 2: 30\n"
     ]
    }
   ],
   "source": [
    "# Indexing\n",
    "arr = np.array([10, 20, 30, 40, 50])\n",
    "print(\"Element at index 2:\", arr[2])"
   ]
  },
  {
   "cell_type": "code",
   "execution_count": 19,
   "id": "df02fea7",
   "metadata": {},
   "outputs": [
    {
     "name": "stdout",
     "output_type": "stream",
     "text": [
      "Elements from index 1 to 3: [20 30 40]\n"
     ]
    }
   ],
   "source": [
    "# Slicing\n",
    "print(\"Elements from index 1 to 3:\", arr[1:4])\n",
    "# Output: [20 30 40]\n"
   ]
  },
  {
   "cell_type": "markdown",
   "id": "30f2bb40",
   "metadata": {},
   "source": [
    "# Array Math"
   ]
  },
  {
   "cell_type": "code",
   "execution_count": 29,
   "id": "502460ca",
   "metadata": {},
   "outputs": [
    {
     "name": "stdout",
     "output_type": "stream",
     "text": [
      "[5 7 9]\n",
      "[ 4 10 18]\n",
      "[0.25 0.4  0.5 ]\n",
      "[1 4 9]\n"
     ]
    },
    {
     "data": {
      "text/plain": [
       "array([5, 7, 9])"
      ]
     },
     "execution_count": 29,
     "metadata": {},
     "output_type": "execute_result"
    }
   ],
   "source": [
    "a = np.array([1, 2, 3])\n",
    "b = np.array([4, 5, 6])\n",
    "\n",
    "c=a + b       # Element-wise addition\n",
    "d=a * b       # Element-wise multiplication\n",
    "e=a / b       # Division\n",
    "f=a ** 2      # Power\n",
    "\n",
    "# Simple OPerations\n",
    "print(c) \n",
    "print(d) \n",
    "print(e) \n",
    "print(f) \n",
    "\n",
    "# np operations\n",
    "np.add(a, b)"
   ]
  },
  {
   "cell_type": "code",
   "execution_count": 30,
   "id": "b8117ff6",
   "metadata": {},
   "outputs": [
    {
     "data": {
      "text/plain": [
       "array([ 4, 10, 18])"
      ]
     },
     "execution_count": 30,
     "metadata": {},
     "output_type": "execute_result"
    }
   ],
   "source": [
    "np.multiply(a, b) # Multiply a and b\n"
   ]
  },
  {
   "cell_type": "code",
   "execution_count": 31,
   "id": "9a3fd773",
   "metadata": {},
   "outputs": [
    {
     "data": {
      "text/plain": [
       "array([ 2.71828183,  7.3890561 , 20.08553692])"
      ]
     },
     "execution_count": 31,
     "metadata": {},
     "output_type": "execute_result"
    }
   ],
   "source": [
    "np.exp(a)       # Exponential\n"
   ]
  },
  {
   "cell_type": "code",
   "execution_count": 33,
   "id": "8f16f653",
   "metadata": {},
   "outputs": [
    {
     "data": {
      "text/plain": [
       "array([1.        , 1.41421356, 1.73205081])"
      ]
     },
     "execution_count": 33,
     "metadata": {},
     "output_type": "execute_result"
    }
   ],
   "source": [
    " np.sqrt(a)      # Square root"
   ]
  },
  {
   "cell_type": "markdown",
   "id": "3833ddbb",
   "metadata": {},
   "source": [
    "# Aggregate Functions"
   ]
  },
  {
   "cell_type": "code",
   "execution_count": 35,
   "id": "4e7dde54",
   "metadata": {},
   "outputs": [
    {
     "data": {
      "text/plain": [
       "21"
      ]
     },
     "execution_count": 35,
     "metadata": {},
     "output_type": "execute_result"
    }
   ],
   "source": [
    "# sum functions\n",
    "arr = np.array([[1, 2, 3], [4, 5, 6]])\n",
    "\n",
    "np.sum(arr)\n",
    "\n"
   ]
  },
  {
   "cell_type": "code",
   "execution_count": 36,
   "id": "4427d025",
   "metadata": {},
   "outputs": [
    {
     "data": {
      "text/plain": [
       "3.5"
      ]
     },
     "execution_count": 36,
     "metadata": {},
     "output_type": "execute_result"
    }
   ],
   "source": [
    "np.mean(arr) # mean of array\n"
   ]
  },
  {
   "cell_type": "code",
   "execution_count": 39,
   "id": "cbc2cd92",
   "metadata": {},
   "outputs": [
    {
     "data": {
      "text/plain": [
       "1"
      ]
     },
     "execution_count": 39,
     "metadata": {},
     "output_type": "execute_result"
    }
   ],
   "source": [
    "# minimum element in array\n",
    "np.min(arr)\n",
    "\n"
   ]
  },
  {
   "cell_type": "code",
   "execution_count": 40,
   "id": "c57a81b9",
   "metadata": {},
   "outputs": [
    {
     "data": {
      "text/plain": [
       "6"
      ]
     },
     "execution_count": 40,
     "metadata": {},
     "output_type": "execute_result"
    }
   ],
   "source": [
    "# find max element in array\n",
    "np.max(arr)\n"
   ]
  },
  {
   "cell_type": "markdown",
   "id": "51dcef82",
   "metadata": {},
   "source": [
    "# Boolean Masking & Filtering"
   ]
  },
  {
   "cell_type": "code",
   "execution_count": 41,
   "id": "3e2621e5",
   "metadata": {},
   "outputs": [
    {
     "data": {
      "text/plain": [
       "array([4, 5])"
      ]
     },
     "execution_count": 41,
     "metadata": {},
     "output_type": "execute_result"
    }
   ],
   "source": [
    "a = np.array([1, 2, 3, 4, 5])\n",
    "mask = a > 3\n",
    "a[mask]            \n"
   ]
  },
  {
   "cell_type": "markdown",
   "id": "e1f52f8b",
   "metadata": {},
   "source": [
    "# Broadcasting"
   ]
  },
  {
   "cell_type": "code",
   "execution_count": 42,
   "id": "b49c4f51",
   "metadata": {},
   "outputs": [
    {
     "data": {
      "text/plain": [
       "array([[11, 22, 33],\n",
       "       [14, 25, 36]])"
      ]
     },
     "execution_count": 42,
     "metadata": {},
     "output_type": "execute_result"
    }
   ],
   "source": [
    "a = np.array([[1, 2, 3],\n",
    "              [4, 5, 6]])\n",
    "b = np.array([10, 20, 30])\n",
    "\n",
    "a + b   # Broadcasting b across rows\n"
   ]
  },
  {
   "cell_type": "markdown",
   "id": "0c09bb60",
   "metadata": {},
   "source": [
    "# Random in NumPy"
   ]
  },
  {
   "cell_type": "code",
   "execution_count": 43,
   "id": "1cbf7641",
   "metadata": {},
   "outputs": [],
   "source": [
    "np.random.seed(0)\n",
    "np.random.rand(2, 3)           # Uniform [0, 1)\n",
    "np.random.randn(2, 3)          # Standard normal\n",
    "np.random.randint(0, 10, size=(2, 3))  # Random integers\n",
    "\n",
    "np.random.shuffle(arr)         # Shuffle array in-place\n"
   ]
  },
  {
   "cell_type": "code",
   "execution_count": 44,
   "id": "ff981fa1",
   "metadata": {},
   "outputs": [
    {
     "name": "stdout",
     "output_type": "stream",
     "text": [
      "Random uniform [0, 1):\n",
      " [[0.5488135  0.71518937 0.60276338]\n",
      " [0.54488318 0.4236548  0.64589411]]\n"
     ]
    }
   ],
   "source": [
    "import numpy as np\n",
    "\n",
    "np.random.seed(0)\n",
    "rand_uniform = np.random.rand(2, 3)\n",
    "print(\"Random uniform [0, 1):\\n\", rand_uniform)\n"
   ]
  },
  {
   "cell_type": "markdown",
   "id": "f3688e30",
   "metadata": {},
   "source": [
    "# concatenating"
   ]
  },
  {
   "cell_type": "code",
   "execution_count": 29,
   "id": "43f7ea45",
   "metadata": {},
   "outputs": [
    {
     "data": {
      "text/plain": [
       "array([[ 1,  2,  3,  4, 13, 14, 15, 16],\n",
       "       [ 5,  6,  7,  8, 17, 18, 19, 20],\n",
       "       [ 9, 10, 11, 12, 21, 22, 23, 24]])"
      ]
     },
     "execution_count": 29,
     "metadata": {},
     "output_type": "execute_result"
    }
   ],
   "source": [
    "a=ar.arange(1,13).reshape(3,4)\n",
    "b=ar.arange(13,25).reshape(3,4)\n",
    "s=ar.concatenate((a,b),axis=1)\n",
    "s"
   ]
  },
  {
   "cell_type": "markdown",
   "id": "4057b4f8",
   "metadata": {},
   "source": [
    "# Converting 1D to 2D and 3D"
   ]
  },
  {
   "cell_type": "code",
   "execution_count": 29,
   "id": "2cd1ff64",
   "metadata": {},
   "outputs": [
    {
     "name": "stdout",
     "output_type": "stream",
     "text": [
      "(6,)\n",
      "\n",
      "[1 2 3 4 5 6]\n",
      "\n",
      "(1, 6)\n",
      "\n",
      "[[1 2 3 4 5 6]]\n"
     ]
    },
    {
     "data": {
      "text/plain": [
       "array([[[1, 2, 3, 4, 5, 6]]])"
      ]
     },
     "execution_count": 29,
     "metadata": {},
     "output_type": "execute_result"
    }
   ],
   "source": [
    "a=ar.arange(1,7)\n",
    "print(a.shape)\n",
    "print()\n",
    "print(a)\n",
    "print()\n",
    "print(a[ar.newaxis,:].shape)\n",
    "print()\n",
    "print(a[ar.newaxis,:])\n",
    "s=a[ar.newaxis,:]\n",
    "s[ar.newaxis,:]"
   ]
  },
  {
   "cell_type": "markdown",
   "id": "3c965187",
   "metadata": {},
   "source": [
    "### Expanding dimention"
   ]
  },
  {
   "cell_type": "code",
   "execution_count": 32,
   "id": "5897adbb",
   "metadata": {},
   "outputs": [
    {
     "data": {
      "text/plain": [
       "(1, 6)"
      ]
     },
     "execution_count": 32,
     "metadata": {},
     "output_type": "execute_result"
    }
   ],
   "source": [
    "np.expand_dims(a,axis=0).shape"
   ]
  },
  {
   "cell_type": "markdown",
   "id": "ab9830e2",
   "metadata": {},
   "source": [
    "# Non Zero"
   ]
  },
  {
   "cell_type": "code",
   "execution_count": 31,
   "id": "fb3bad2c",
   "metadata": {},
   "outputs": [
    {
     "name": "stdout",
     "output_type": "stream",
     "text": [
      "[ 1  2  3  4  5  6  7  8  9 10 11 12]\n"
     ]
    }
   ],
   "source": [
    "a = ar.array([[1, 2, 3, 4], [5, 6, 7, 8], [9, 10, 11, 12]])\n",
    "ar.nonzero(a)\n",
    "print(a[ar.nonzero(a)])"
   ]
  },
  {
   "cell_type": "markdown",
   "id": "a70ff1b7",
   "metadata": {},
   "source": [
    "# converting array into tuple"
   ]
  },
  {
   "cell_type": "code",
   "execution_count": 32,
   "id": "0a78ab06",
   "metadata": {},
   "outputs": [
    {
     "name": "stdout",
     "output_type": "stream",
     "text": [
      "[1 2 3]\n",
      "\n",
      "[5 6 7]\n",
      "\n",
      "(1, 5)\n",
      "(2, 6)\n",
      "(3, 7)\n"
     ]
    }
   ],
   "source": [
    "a=ar.arange(1,4)\n",
    "b=ar.arange(5,8)\n",
    "print(a)\n",
    "print()\n",
    "print(b)\n",
    "print()\n",
    "c=list(zip(a,b))\n",
    "for i in c:\n",
    "    print(i)"
   ]
  },
  {
   "cell_type": "markdown",
   "id": "9fe4e91a",
   "metadata": {},
   "source": [
    "# Stacking"
   ]
  },
  {
   "cell_type": "code",
   "execution_count": 33,
   "id": "e9fc4b54",
   "metadata": {},
   "outputs": [
    {
     "name": "stdout",
     "output_type": "stream",
     "text": [
      "[[ 1  2  3  4]\n",
      " [ 5  6  7  8]\n",
      " [ 9 10 11 12]\n",
      " [13 14 15 16]\n",
      " [17 18 19 20]\n",
      " [21 22 23 24]]\n",
      "\n",
      "[[ 1  2  3  4 13 14 15 16]\n",
      " [ 5  6  7  8 17 18 19 20]\n",
      " [ 9 10 11 12 21 22 23 24]]\n"
     ]
    }
   ],
   "source": [
    "a=ar.arange(1,13).reshape(3,4)\n",
    "b=ar.arange(13,25).reshape(3,4)\n",
    "print(ar.vstack((a,b)))\n",
    "print()\n",
    "print(ar.hstack((a,b)))"
   ]
  },
  {
   "cell_type": "markdown",
   "id": "e04bede0",
   "metadata": {},
   "source": [
    "# Sum"
   ]
  },
  {
   "cell_type": "code",
   "execution_count": 35,
   "id": "5f279613",
   "metadata": {},
   "outputs": [
    {
     "name": "stdout",
     "output_type": "stream",
     "text": [
      "78\n",
      "\n"
     ]
    },
    {
     "data": {
      "text/plain": [
       "300"
      ]
     },
     "execution_count": 35,
     "metadata": {},
     "output_type": "execute_result"
    }
   ],
   "source": [
    "a=ar.arange(1,13)\n",
    "print(ar.sum(a))\n",
    "print()\n",
    "b=ar.arange(13,25)\n",
    "ar.sum([a,b])\n"
   ]
  },
  {
   "cell_type": "markdown",
   "id": "0d36cdf7",
   "metadata": {},
   "source": [
    "# Unique"
   ]
  },
  {
   "cell_type": "code",
   "execution_count": 36,
   "id": "ed9a034c",
   "metadata": {},
   "outputs": [
    {
     "name": "stdout",
     "output_type": "stream",
     "text": [
      "(array([ 1,  2,  3,  4,  5, 22, 33, 35, 43]), array([ 0,  1,  2,  5,  7, 11,  9,  8, 14], dtype=int64))\n"
     ]
    }
   ],
   "source": [
    "a=ar.array([1,2,3,2,1,4,2,5,35,33,5,22,3,1,43])\n",
    "print(ar.unique(a,return_index=True))"
   ]
  },
  {
   "cell_type": "markdown",
   "id": "bb8e8117",
   "metadata": {},
   "source": [
    "# Reversing"
   ]
  },
  {
   "cell_type": "code",
   "execution_count": 37,
   "id": "d16ecab7",
   "metadata": {},
   "outputs": [
    {
     "name": "stdout",
     "output_type": "stream",
     "text": [
      "[13 12 11 10  9  8  7  6  5  4  3  2  1]\n",
      "\n",
      "[[ 1  2  3  4  5  6]\n",
      " [ 7  8  9 10 11 12]\n",
      " [13 14 15 16 17 18]\n",
      " [19 20 21 22 23 24]]\n",
      "\n",
      "[[24 23 22 21 20 19]\n",
      " [18 17 16 15 14 13]\n",
      " [12 11 10  9  8  7]\n",
      " [ 6  5  4  3  2  1]]\n",
      "(4, 6)\n",
      "\n",
      "[[[ 1  2  3  4  5  6]\n",
      "  [ 7  8  9 10 11 12]\n",
      "  [13 14 15 16 17 18]\n",
      "  [19 20 21 22 23 24]]]\n"
     ]
    },
    {
     "data": {
      "text/plain": [
       "array([[[24, 23, 22, 21, 20, 19],\n",
       "        [18, 17, 16, 15, 14, 13],\n",
       "        [12, 11, 10,  9,  8,  7],\n",
       "        [ 6,  5,  4,  3,  2,  1]]])"
      ]
     },
     "execution_count": 37,
     "metadata": {},
     "output_type": "execute_result"
    }
   ],
   "source": [
    "a=ar.arange(1,14)\n",
    "print(ar.flip(a))\n",
    "print()\n",
    "b=ar.arange(1,25).reshape(4,6)\n",
    "print(b)\n",
    "print()\n",
    "print(ar.flip(b))\n",
    "print(b.shape)\n",
    "c=b[ar.newaxis,:]\n",
    "print()\n",
    "print(c)\n",
    "ar.flip(c)"
   ]
  },
  {
   "cell_type": "markdown",
   "id": "411b1b57",
   "metadata": {},
   "source": [
    "# Tranposing"
   ]
  },
  {
   "cell_type": "code",
   "execution_count": 38,
   "id": "5ea3d40b",
   "metadata": {},
   "outputs": [
    {
     "name": "stdout",
     "output_type": "stream",
     "text": [
      "[[ 0  1  2  3]\n",
      " [ 4  5  6  7]\n",
      " [ 8  9 10 11]]\n",
      "\n",
      "[[ 0  4  8]\n",
      " [ 1  5  9]\n",
      " [ 2  6 10]\n",
      " [ 3  7 11]]\n",
      "\n",
      "[[[ 0  1  2]\n",
      "  [ 3  4  5]\n",
      "  [ 6  7  8]]\n",
      "\n",
      " [[ 9 10 11]\n",
      "  [12 13 14]\n",
      "  [15 16 17]]]\n",
      "\n",
      "[[[ 0  9]\n",
      "  [ 3 12]\n",
      "  [ 6 15]]\n",
      "\n",
      " [[ 1 10]\n",
      "  [ 4 13]\n",
      "  [ 7 16]]\n",
      "\n",
      " [[ 2 11]\n",
      "  [ 5 14]\n",
      "  [ 8 17]]]\n"
     ]
    }
   ],
   "source": [
    "a=ar.arange(12).reshape(3,4)\n",
    "print(a)\n",
    "print()\n",
    "print(a.T)\n",
    "a=ar.arange(18).reshape(2,3,3)\n",
    "print()\n",
    "print(a)\n",
    "print()\n",
    "print(a.T)"
   ]
  },
  {
   "cell_type": "code",
   "execution_count": 39,
   "id": "2ad30338",
   "metadata": {},
   "outputs": [
    {
     "data": {
      "text/plain": [
       "array([12, 11, 10,  9,  8,  7])"
      ]
     },
     "execution_count": 39,
     "metadata": {},
     "output_type": "execute_result"
    }
   ],
   "source": [
    "ar.flip(c[0,1])\n"
   ]
  },
  {
   "cell_type": "markdown",
   "id": "eaf41b67",
   "metadata": {},
   "source": [
    "# Random"
   ]
  },
  {
   "cell_type": "code",
   "execution_count": 46,
   "id": "9c546bbd",
   "metadata": {},
   "outputs": [
    {
     "name": "stdout",
     "output_type": "stream",
     "text": [
      "[[1. 0. 0. 0. 0.]\n",
      " [0. 1. 0. 0. 0.]\n",
      " [0. 0. 1. 0. 0.]\n",
      " [0. 0. 0. 1. 0.]\n",
      " [0. 0. 0. 0. 1.]]\n"
     ]
    }
   ],
   "source": [
    "print(ar.eye(5))\n",
    "\n"
   ]
  },
  {
   "cell_type": "code",
   "execution_count": 47,
   "id": "1bcb8f1c",
   "metadata": {},
   "outputs": [
    {
     "name": "stdout",
     "output_type": "stream",
     "text": [
      "[[0 1 2 3 4]\n",
      " [1 2 3 4 5]\n",
      " [2 3 4 5 6]\n",
      " [3 4 5 6 7]\n",
      " [4 5 6 7 8]]\n"
     ]
    }
   ],
   "source": [
    "x = ar.arange(5)\n",
    "row=x[ar.newaxis,:]\n",
    "col=x[:,ar.newaxis]\n",
    "print(row+col)"
   ]
  },
  {
   "cell_type": "code",
   "execution_count": 44,
   "id": "d83ea2ac",
   "metadata": {},
   "outputs": [
    {
     "data": {
      "text/plain": [
       "array([[ 3,  5],\n",
       "       [ 9, 11]])"
      ]
     },
     "execution_count": 44,
     "metadata": {},
     "output_type": "execute_result"
    }
   ],
   "source": [
    "x = ar.array([[ 0,  1,  2],\n",
    "              [ 3,  4,  5],\n",
    "              [ 6,  7,  8],\n",
    "              [ 9, 10, 11]])\n",
    "row=ar.array([[1,1],[3,3]])\n",
    "col=ar.array([[0,2],[0,2]])\n",
    "x[row,col]"
   ]
  },
  {
   "cell_type": "code",
   "execution_count": 45,
   "id": "bdb026bd",
   "metadata": {},
   "outputs": [
    {
     "data": {
      "text/plain": [
       "array([False, False, False,  True,  True])"
      ]
     },
     "execution_count": 45,
     "metadata": {},
     "output_type": "execute_result"
    }
   ],
   "source": [
    "x = ar.arange(35).reshape(5, 7)\n",
    "b=x>20\n",
    "b[:,5]"
   ]
  },
  {
   "cell_type": "code",
   "execution_count": 46,
   "id": "ecfc0982",
   "metadata": {},
   "outputs": [
    {
     "data": {
      "text/plain": [
       "array([1, 2, 4])"
      ]
     },
     "execution_count": 46,
     "metadata": {},
     "output_type": "execute_result"
    }
   ],
   "source": [
    "x = ar.array([[0, 1], [1, 1], [2, 2]])\n",
    "x.sum(-1)"
   ]
  },
  {
   "cell_type": "code",
   "execution_count": 47,
   "id": "ba691884",
   "metadata": {},
   "outputs": [
    {
     "data": {
      "text/plain": [
       "array([[ 3,  4,  5],\n",
       "       [ 9, 10, 11]])"
      ]
     },
     "execution_count": 47,
     "metadata": {},
     "output_type": "execute_result"
    }
   ],
   "source": [
    "x = ar.array([[ 0,  1,  2],\n",
    "              [ 3,  4,  5],\n",
    "              [ 6,  7,  8],\n",
    "              [ 9, 10, 11]])\n",
    "x[x.sum(-1) % 2 == 0]\n"
   ]
  },
  {
   "cell_type": "markdown",
   "id": "1422152c",
   "metadata": {},
   "source": [
    "# Empty array"
   ]
  },
  {
   "cell_type": "code",
   "execution_count": 49,
   "id": "3a320aeb",
   "metadata": {},
   "outputs": [
    {
     "data": {
      "text/plain": [
       "array([[4.24399158e-314, 8.48798317e-314, 1.27319747e-313,\n",
       "        1.69759663e-313],\n",
       "       [2.12199579e-313, 2.54639495e-313, 2.97079411e-313,\n",
       "        3.39519327e-313],\n",
       "       [3.81959242e-313, 4.24399158e-313, 4.66839074e-313,\n",
       "        5.09278990e-313]])"
      ]
     },
     "execution_count": 49,
     "metadata": {},
     "output_type": "execute_result"
    }
   ],
   "source": [
    "a=ar.empty((3,4))\n",
    "a"
   ]
  },
  {
   "cell_type": "markdown",
   "id": "4254d5dc",
   "metadata": {},
   "source": [
    "### where"
   ]
  },
  {
   "cell_type": "code",
   "execution_count": 35,
   "id": "e341ae87",
   "metadata": {},
   "outputs": [
    {
     "data": {
      "text/plain": [
       "(array([45, 46, 47, 48], dtype=int64),)"
      ]
     },
     "execution_count": 35,
     "metadata": {},
     "output_type": "execute_result"
    }
   ],
   "source": [
    "a=np.arange(1,50)\n",
    "np.where(a>45)"
   ]
  },
  {
   "cell_type": "code",
   "execution_count": 36,
   "id": "01847044",
   "metadata": {},
   "outputs": [
    {
     "data": {
      "text/plain": [
       "array([ 1,  2,  3,  4,  5,  6,  7,  8,  9, 10, 11, 12, 13, 14, 15, 16, 17,\n",
       "       18, 19, 20, 21, 22, 23, 24, 25, 26, 27, 28, 29, 30, 31, 32, 33, 34,\n",
       "       35, 36, 37, 38, 39, 40, 41, 42, 43, 44, 45, 46, 47,  0,  0])"
      ]
     },
     "execution_count": 36,
     "metadata": {},
     "output_type": "execute_result"
    }
   ],
   "source": [
    "replace_0=np.where(a>47,0,a)\n",
    "replace_0\n"
   ]
  },
  {
   "cell_type": "code",
   "execution_count": 37,
   "id": "41b90a6e",
   "metadata": {},
   "outputs": [
    {
     "data": {
      "text/plain": [
       "array([ 1,  0,  3,  0,  5,  0,  7,  0,  9,  0, 11,  0, 13,  0, 15,  0, 17,\n",
       "        0, 19,  0, 21,  0, 23,  0, 25,  0, 27,  0, 29,  0, 31,  0, 33,  0,\n",
       "       35,  0, 37,  0, 39,  0, 41,  0, 43,  0, 45,  0, 47,  0, 49])"
      ]
     },
     "execution_count": 37,
     "metadata": {},
     "output_type": "execute_result"
    }
   ],
   "source": [
    "replace_even_0=np.where(a%2==0,0,a)\n",
    "replace_even_0"
   ]
  },
  {
   "cell_type": "code",
   "execution_count": 40,
   "id": "c235eb09",
   "metadata": {},
   "outputs": [
    {
     "data": {
      "text/plain": [
       "49.0"
      ]
     },
     "execution_count": 40,
     "metadata": {},
     "output_type": "execute_result"
    }
   ],
   "source": [
    "np.percentile(a,100)"
   ]
  },
  {
   "cell_type": "code",
   "execution_count": 42,
   "id": "cd776388",
   "metadata": {},
   "outputs": [
    {
     "data": {
      "text/plain": [
       "(array([65,  4], dtype=int64), array([   0,   50, 1000]))"
      ]
     },
     "execution_count": 42,
     "metadata": {},
     "output_type": "execute_result"
    }
   ],
   "source": [
    "a=np.array([1,2,3,4,1,5,2,6,3,6,2,51,3,5,1,512,5,2,4,2,5,7,8,3,1,3,21,1,1,3,1,4,1,4,1,3,1,2,5,2,5,63,5,3,6,33,655,4,4,4,3,3,3,3,35,5,5,6,1,7,7,8,1,8,7,5,4,3,3])\n",
    "np.histogram(a,bins=[0,50,1000])"
   ]
  },
  {
   "cell_type": "markdown",
   "id": "aaf81e1e",
   "metadata": {},
   "source": [
    "# Dimensional indexing tools"
   ]
  },
  {
   "cell_type": "code",
   "execution_count": 44,
   "id": "806d5794",
   "metadata": {},
   "outputs": [
    {
     "name": "stdout",
     "output_type": "stream",
     "text": [
      "[[[ 0  1  2  3  4  5]\n",
      "  [ 6  7  8  9 10 11]\n",
      "  [12 13 14 15 16 17]]\n",
      "\n",
      " [[18 19 20 21 22 23]\n",
      "  [24 25 26 27 28 29]\n",
      "  [30 31 32 33 34 35]]]\n",
      "[[ 0  1  2  3  4  5]\n",
      " [ 6  7  8  9 10 11]\n",
      " [12 13 14 15 16 17]]\n",
      "\n",
      "[[ 0  6 12]\n",
      " [18 24 30]]\n",
      "\n",
      "[[[[ 0  1  2  3  4  5]\n",
      "   [ 6  7  8  9 10 11]\n",
      "   [12 13 14 15 16 17]]]\n",
      "\n",
      "\n",
      " [[[18 19 20 21 22 23]\n",
      "   [24 25 26 27 28 29]\n",
      "   [30 31 32 33 34 35]]]]\n",
      "\n",
      "(2, 1, 3, 6)\n",
      "\n",
      "[[[[ 0  1  2  3  4  5]\n",
      "   [ 6  7  8  9 10 11]\n",
      "   [12 13 14 15 16 17]]\n",
      "\n",
      "  [[18 19 20 21 22 23]\n",
      "   [24 25 26 27 28 29]\n",
      "   [30 31 32 33 34 35]]]]\n",
      "\n",
      "(1, 2, 3, 6)\n"
     ]
    }
   ],
   "source": [
    "x=ar.arange(36).reshape(2,3,6)\n",
    "print(x)\n",
    "print(x[0,Ellipsis])\n",
    "print()\n",
    "print(x[:, :,0])\n",
    "print()\n",
    "print(x[:, ar.newaxis, :,:])\n",
    "print()\n",
    "print(x[:, ar.newaxis, :,:].shape)\n",
    "print()\n",
    "print(x[ar.newaxis,:, :,:])\n",
    "print()\n",
    "print(x[ar.newaxis,:,:].shape)"
   ]
  },
  {
   "cell_type": "code",
   "execution_count": null,
   "id": "63a7bae3",
   "metadata": {},
   "outputs": [],
   "source": [
    "x=ar.arange(5)\n",
    "print(x[:,ar.newaxis]+x[ar.newaxis,:])\n",
    "print()\n"
   ]
  },
  {
   "cell_type": "markdown",
   "id": "4cdb1807",
   "metadata": {},
   "source": [
    "# Advance indexing"
   ]
  },
  {
   "cell_type": "code",
   "execution_count": 48,
   "id": "f9e8d4a3",
   "metadata": {},
   "outputs": [
    {
     "name": "stdout",
     "output_type": "stream",
     "text": [
      "[[ 0  1  2  3  4]\n",
      " [ 5  6  7  8  9]\n",
      " [10 11 12 13 14]\n",
      " [15 16 17 18 19]\n",
      " [20 21 22 23 24]]\n",
      "\n",
      "[[ 6  9]\n",
      " [16 19]]\n"
     ]
    }
   ],
   "source": [
    "x=ar.arange(25).reshape(5,5)\n",
    "print(x)\n",
    "print()\n",
    "row=ar.array([[1,1],[3,3]])\n",
    "col=ar.array([[1,-1],[1,-1]])\n",
    "print(x[row,col])\n"
   ]
  },
  {
   "cell_type": "code",
   "execution_count": null,
   "id": "e19433cf",
   "metadata": {},
   "outputs": [],
   "source": []
  }
 ],
 "metadata": {
  "kernelspec": {
   "display_name": "Python 3 (ipykernel)",
   "language": "python",
   "name": "python3"
  },
  "language_info": {
   "codemirror_mode": {
    "name": "ipython",
    "version": 3
   },
   "file_extension": ".py",
   "mimetype": "text/x-python",
   "name": "python",
   "nbconvert_exporter": "python",
   "pygments_lexer": "ipython3",
   "version": "3.10.9"
  }
 },
 "nbformat": 4,
 "nbformat_minor": 5
}
